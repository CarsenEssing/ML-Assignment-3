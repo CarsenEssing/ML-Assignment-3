{
 "cells": [
  {
   "cell_type": "markdown",
   "id": "0b366b28-c57c-45a3-b03b-11a58becfd4e",
   "metadata": {},
   "source": [
    "# DA3 Assignment 3\n",
    "## Finding fast growing firms 2025\n",
    "### Carsen Essing, Artem Bilko\n"
   ]
  },
  {
   "cell_type": "code",
   "execution_count": 1,
   "id": "6f637bb9-b706-414f-8e59-b5655c13ed1c",
   "metadata": {},
   "outputs": [],
   "source": [
    "# Suppress warnings\n",
    "import warnings\n",
    "warnings.filterwarnings('ignore')\n",
    "\n",
    "# Core system and OS utilities\n",
    "import os\n",
    "import sys\n",
    "\n",
    "# Core data analysis libraries\n",
    "import pandas as pd\n",
    "import numpy as np\n",
    "\n",
    "# Plotting and visualization\n",
    "from plotnine import (\n",
    "    ggplot, aes, geom_point, geom_smooth, labs,\n",
    "    scale_x_continuous, scale_y_continuous, theme_bw\n",
    ")\n",
    "import matplotlib.pyplot as plt\n",
    "\n",
    "# Statistical modeling\n",
    "import statsmodels.formula.api as smf\n",
    "from skmisc.loess import loess\n",
    "\n",
    "# Machine learning models\n",
    "from sklearn.linear_model import LogisticRegression\n",
    "from sklearn.ensemble import RandomForestClassifier, GradientBoostingClassifier\n",
    "\n",
    "# Model evaluation\n",
    "from sklearn.model_selection import (\n",
    "    train_test_split, StratifiedKFold, cross_val_score, cross_val_predict\n",
    ")\n",
    "from sklearn.metrics import (\n",
    "    accuracy_score, roc_auc_score, mean_squared_error, r2_score,\n",
    "    confusion_matrix, ConfusionMatrixDisplay\n",
    ")\n"
   ]
  },
  {
   "cell_type": "markdown",
   "id": "c983984b-6363-4f00-8631-1d7bc2e0362f",
   "metadata": {},
   "source": [
    "\n",
    "## Data Management\n",
    "\n",
    "The data cleaning procedure builds upon the foundation provided in the script `ch17-firm-exit-data-prep`. Key modifications were made to extend the temporal coverage of the panel dataset to include the years 2012 and 2013. This extension was essential to enable the construction of the target variablel **fast growth** which is defined based on firm performance over either a one-year (2013 vs. 2012) or two-year (2014 vs. 2012) horizon.\n"
   ]
  },
  {
   "cell_type": "code",
   "execution_count": 2,
   "id": "e263d39e",
   "metadata": {},
   "outputs": [
    {
     "name": "stdout",
     "output_type": "stream",
     "text": [
      "Initial dataset shape: (287829, 48)\n",
      "Columns:\n",
      " ['comp_id', 'begin', 'end', 'COGS', 'amort', 'curr_assets', 'curr_liab', 'extra_exp', 'extra_inc', 'extra_profit_loss', 'finished_prod', 'fixed_assets', 'inc_bef_tax', 'intang_assets', 'inventories', 'liq_assets', 'material_exp', 'net_dom_sales', 'net_exp_sales', 'personnel_exp', 'profit_loss_year', 'sales', 'share_eq', 'subscribed_cap', 'tang_assets', 'wages', 'D', 'balsheet_flag', 'balsheet_length', 'balsheet_notfullyear', 'year', 'founded_year', 'exit_year', 'ceo_count', 'foreign', 'female', 'birth_year', 'inoffice_days', 'gender', 'origin', 'nace_main', 'ind2', 'ind', 'urban_m', 'region_m', 'founded_date', 'exit_date', 'labor_avg']\n",
      "After filtering for years 2010-2015: (167606, 48)\n",
      "Top 10 columns with missing values:\n",
      " D               1.000000\n",
      "exit_year       0.898822\n",
      "exit_date       0.877457\n",
      "labor_avg       0.318282\n",
      "birth_year      0.257873\n",
      "founded_year    0.109835\n",
      "gender          0.109799\n",
      "foreign         0.109799\n",
      "female          0.109799\n",
      "ceo_count       0.109799\n",
      "dtype: float64\n"
     ]
    }
   ],
   "source": [
    "# Load required libraries\n",
    "import pandas as pd\n",
    "\n",
    "# Load the dataset\n",
    "url = \"https://raw.githubusercontent.com/CarsenEssing/ML-Assignment-3/main/cs_bisnode_panel.zip\"\n",
    "data = pd.read_csv(url, compression=\"zip\")\n",
    "\n",
    "# Display initial shape and columns\n",
    "print(\"Initial dataset shape:\", data.shape)\n",
    "print(\"Columns:\\n\", data.columns.tolist())\n",
    "\n",
    "# Filter for relevant years: 2010–2015\n",
    "data = data.query(\"2010 <= year <= 2015\").copy()\n",
    "print(\"After filtering for years 2010-2015:\", data.shape)\n",
    "\n",
    "# Drop columns with many missing values (manual selection)\n",
    "cols_to_drop = [\n",
    "    \"COGS\", \"finished_prod\", \"net_dom_sales\", \"net_exp_sales\", \"wages\"\n",
    "]\n",
    "data.drop(columns=cols_to_drop, inplace=True)\n",
    "\n",
    "# Check missingness after dropping\n",
    "missing_summary = data.isnull().mean().sort_values(ascending=False)\n",
    "print(\"Top 10 columns with missing values:\\n\", missing_summary.head(10))\n"
   ]
  },
  {
   "cell_type": "code",
   "execution_count": 3,
   "id": "da9b06ec",
   "metadata": {},
   "outputs": [],
   "source": [
    "# Drop 'D' column as it contains only missing values\n",
    "if 'D' in data.columns:\n",
    "    data.drop(columns=['D'], inplace=True)\n"
   ]
  },
  {
   "cell_type": "markdown",
   "id": "56c2ad4d-5abc-4ca5-8737-7b099b3a9df9",
   "metadata": {},
   "source": [
    "## Label engineering"
   ]
  },
  {
   "cell_type": "code",
   "execution_count": 4,
   "id": "5c2170c3-8db5-449c-9bde-b1ad349eca72",
   "metadata": {},
   "outputs": [],
   "source": [
    "# Ensure full (year, comp_id) panel: insert missing year-firm combos\n",
    "data = (\n",
    "    data.set_index([\"year\", \"comp_id\"])\n",
    "    .unstack(fill_value=\"toReplace\")  \n",
    "    .stack(dropna=False)\n",
    "    .reset_index()\n",
    ")\n",
    "\n",
    "# Convert placeholder back to NaN\n",
    "data.replace(\"toReplace\", np.nan, inplace=True)\n",
    "\n",
    "# Define firm as 'alive' if sales are positive and not missing\n",
    "data[\"status_alive\"] = ((data[\"sales\"] > 0) & (~data[\"sales\"].isna())).astype(int)\n",
    "\n",
    "# Create 'default' flag: alive now but not alive two years later\n",
    "data[\"default\"] = (\n",
    "    (data[\"status_alive\"] == 1) &\n",
    "    (data.groupby(\"comp_id\")[\"status_alive\"].shift(-2) == 0)\n",
    ").astype(int)\n",
    "\n",
    "# Ensure we're still within the relevant time window\n",
    "data = data.query(\"2010 <= year <= 2015\")\n"
   ]
  },
  {
   "cell_type": "code",
   "execution_count": 5,
   "id": "a50d1d1c-458c-4351-9191-911c60bcf803",
   "metadata": {},
   "outputs": [],
   "source": [
    "# Replace negative sales with 1 to enable log transformation\n",
    "data[\"sales\"] = np.where(data[\"sales\"] < 0, 1, data[\"sales\"])\n",
    "\n",
    "# Feature engineering: sales-based metrics\n",
    "data = data.assign(\n",
    "    ln_sales=np.where(\n",
    "        data[\"sales\"] > 0,\n",
    "        np.log(data[\"sales\"]),\n",
    "        np.where(data[\"sales\"].isna(), np.nan, 0)\n",
    "    ),\n",
    "    sales_mil=data[\"sales\"] / 1_000_000,\n",
    "    sales_mil_log=np.where(\n",
    "        data[\"sales\"] > 0,\n",
    "        np.log(data[\"sales\"] / 1_000_000),\n",
    "        np.where(data[\"sales\"].isna(), np.nan, 0)\n",
    "    )\n",
    ")\n"
   ]
  },
  {
   "cell_type": "code",
   "execution_count": 6,
   "id": "25ee8c16-c638-4fdb-9eb0-85dbf6194f80",
   "metadata": {},
   "outputs": [],
   "source": [
    "# Compute 1-year log difference in sales (approximate growth rate)\n",
    "data[\"d1_sales_mil_log\"] = data[\"sales_mil_log\"] - data.groupby(\"comp_id\")[\"sales_mil_log\"].shift(1)\n"
   ]
  },
  {
   "cell_type": "code",
   "execution_count": 7,
   "id": "69fd7d79-7b5d-4c96-a423-f03a040db814",
   "metadata": {},
   "outputs": [],
   "source": [
    "# Calculate firm age (avoid negatives from bad founded_year)\n",
    "data[\"age\"] = np.where(\n",
    "    (data[\"year\"] - data[\"founded_year\"]) < 0, 0, data[\"year\"] - data[\"founded_year\"]\n",
    ")\n",
    "\n",
    "# Identify 'new' firms: age <= 1 or partial-year balance sheet\n",
    "data[\"new\"] = np.where(\n",
    "    (data[\"age\"] <= 1) | (data[\"balsheet_notfullyear\"] == 1),\n",
    "    1,\n",
    "    np.where(data[\"age\"].isna(), np.nan, 0)\n",
    ")\n",
    "\n",
    "# Set sales growth to 0 for new firms\n",
    "data[\"d1_sales_mil_log\"] = np.where(\n",
    "    data[\"new\"] == 1, 0, data[\"d1_sales_mil_log\"]\n",
    ")\n",
    "\n",
    "# If growth is still missing, assume it's due to new firm status\n",
    "data[\"new\"] = np.where(data[\"d1_sales_mil_log\"].isna(), 1, data[\"new\"])\n",
    "data[\"d1_sales_mil_log\"] = np.where(\n",
    "    data[\"d1_sales_mil_log\"].isna(), 0, data[\"d1_sales_mil_log\"]\n",
    ")\n"
   ]
  },
  {
   "cell_type": "code",
   "execution_count": 8,
   "id": "d6d0ad9f-368b-4e25-8179-0f74c24243a7",
   "metadata": {},
   "outputs": [
    {
     "data": {
      "text/plain": [
       "count    236250.000000\n",
       "mean          0.082294\n",
       "std           0.274813\n",
       "min           0.000000\n",
       "25%           0.000000\n",
       "50%           0.000000\n",
       "75%           0.000000\n",
       "max           1.000000\n",
       "Name: default, dtype: float64"
      ]
     },
     "execution_count": 8,
     "metadata": {},
     "output_type": "execute_result"
    }
   ],
   "source": [
    "data[\"default\"].describe()"
   ]
  },
  {
   "cell_type": "code",
   "execution_count": 9,
   "id": "df90ef53-3f4f-4ec6-b12f-350c86659849",
   "metadata": {},
   "outputs": [
    {
     "data": {
      "text/plain": [
       "count    1.638640e+05\n",
       "mean     4.662101e+05\n",
       "std      3.789099e+06\n",
       "min      0.000000e+00\n",
       "25%      3.092593e+03\n",
       "50%      2.697037e+04\n",
       "75%      1.060620e+05\n",
       "max      1.110294e+08\n",
       "Name: sales, dtype: float64"
      ]
     },
     "execution_count": 9,
     "metadata": {},
     "output_type": "execute_result"
    }
   ],
   "source": [
    "data[\"sales\"].describe()"
   ]
  },
  {
   "cell_type": "code",
   "execution_count": 10,
   "id": "d864045e-70a0-46bb-ace5-95dcbe981758",
   "metadata": {},
   "outputs": [
    {
     "data": {
      "text/plain": [
       "count    228501.000000\n",
       "mean          0.548510\n",
       "std           0.497642\n",
       "min           0.000000\n",
       "25%           0.000000\n",
       "50%           1.000000\n",
       "75%           1.000000\n",
       "max           1.000000\n",
       "Name: new, dtype: float64"
      ]
     },
     "execution_count": 10,
     "metadata": {},
     "output_type": "execute_result"
    }
   ],
   "source": [
    "data[\"new\"].describe()"
   ]
  },
  {
   "cell_type": "markdown",
   "id": "37e62ba9",
   "metadata": {},
   "source": [
    "\n",
    "We defined `status_alive` based on whether firms reported positive sales, and constructed a `default` label indicating firms that ceased reporting sales two years later. Log-transformed sales (`sales_mil_log`) and their first differences (`d1_sales_mil_log`) were used to approximate growth. To avoid distortions from young firms or partial-year records, we introduced a `new` indicator and set corresponding growth values to zero. These transformations support reliable target construction for fast-growth prediction.\n",
    "\n",
    "The `default` label, indicating firm exit within two years, is positive for approximately 8% of observations, highlighting a class imbalance relevant for modeling. Sales figures exhibit strong right-skewness, with a median around €27,000 and a maximum exceeding €110 million. The `new` variable, capturing young or partially reported firms, accounts for about 55% of the sample, underscoring the importance of controlling for firm maturity in growth dynamics.\n"
   ]
  },
  {
   "cell_type": "markdown",
   "id": "a76c0a1a-179d-41a7-9123-94f4db03d082",
   "metadata": {},
   "source": [
    "## Sample Design"
   ]
  },
  {
   "cell_type": "code",
   "execution_count": 11,
   "id": "5f0e21e4",
   "metadata": {},
   "outputs": [
    {
     "name": "stdout",
     "output_type": "stream",
     "text": [
      "Default summary in final sample:\n",
      " count    128355.000000\n",
      "mean          0.136979\n",
      "std           0.343827\n",
      "min           0.000000\n",
      "25%           0.000000\n",
      "50%           0.000000\n",
      "75%           0.000000\n",
      "max           1.000000\n",
      "Name: default, dtype: float64\n"
     ]
    }
   ],
   "source": [
    "# Keep only active firms between 2010 and 2015\n",
    "data = data.query(\"2010 <= year <= 2015 and status_alive == 1\")\n",
    "\n",
    "# Limit to firms with annual sales between €1K and €10M\n",
    "data = data.query(\"0.001 <= sales_mil <= 10\")\n",
    "\n",
    "# Check class balance for default variable post-filtering\n",
    "print(\"Default summary in final sample:\\n\", data[\"default\"].describe())\n",
    "\n",
    "# Save cleaned sample for backup\n",
    "data.to_csv(\"work5.csv\", index=False)\n"
   ]
  },
  {
   "cell_type": "markdown",
   "id": "13b398ef",
   "metadata": {},
   "source": [
    "We restricted the dataset to active firms between 2010 and 2015, with annual revenues ranging from €1,000 to €10 million. This effectively excludes both extreme outliers and inactive entities. In the resulting sample of approximately 128,000 firm-year observations, the default rate is 13.7%, reflecting an increased share of at-risk firms relative to the unfiltered dataset.\n"
   ]
  },
  {
   "cell_type": "markdown",
   "id": "4935a7b2-4e1c-417b-9daa-1e49645bef18",
   "metadata": {},
   "source": [
    "## Feature Engineering"
   ]
  },
  {
   "cell_type": "code",
   "execution_count": 12,
   "id": "913b591b-eab9-4056-9a82-bbdb9b856706",
   "metadata": {},
   "outputs": [],
   "source": [
    "url = \"https://raw.githubusercontent.com/CarsenEssing/ML-Assignment-3/main/work5.zip\"\n",
    "data = pd.read_csv(url, compression=\"zip\")\n",
    "\n",
    "# Filter rows to keep only years 2012 and 2013\n",
    "data = data[data[\"year\"].isin([2012, 2013])]\n"
   ]
  },
  {
   "cell_type": "code",
   "execution_count": 13,
   "id": "8f63de9f-0e88-4d68-8414-968e88f6c84e",
   "metadata": {},
   "outputs": [],
   "source": [
    "# change some industry category codes\n",
    "data[\"ind2_cat\"] = data[\"ind2\"].copy()\n",
    "data[\"ind2_cat\"] = np.where(data[\"ind2\"] > 56, 60, data[\"ind2_cat\"])\n",
    "data[\"ind2_cat\"] = np.where(data[\"ind2\"] < 26, 20, data[\"ind2_cat\"])\n",
    "data[\"ind2_cat\"] = np.where(\n",
    "    (data[\"ind2\"] < 55) & (data[\"ind2\"] > 35), 40, data[\"ind2_cat\"]\n",
    ")\n",
    "data[\"ind2_cat\"] = np.where(data[\"ind2\"] == 31, 30, data[\"ind2_cat\"])\n",
    "data[\"ind2_cat\"] = np.where(data[\"ind2\"].isna(), 99, data[\"ind2_cat\"])"
   ]
  },
  {
   "cell_type": "code",
   "execution_count": 14,
   "id": "789c2afd-f986-49b1-abf3-63c2cbe3472b",
   "metadata": {},
   "outputs": [
    {
     "name": "stdout",
     "output_type": "stream",
     "text": [
      "ind2_cat\n",
      "20.0      105\n",
      "26.0     2130\n",
      "27.0     1296\n",
      "28.0     3897\n",
      "29.0      566\n",
      "30.0      340\n",
      "32.0      281\n",
      "33.0     3894\n",
      "40.0      427\n",
      "55.0     4581\n",
      "56.0    25167\n",
      "60.0      493\n",
      "99.0       10\n",
      "Name: comp_id, dtype: int64\n"
     ]
    }
   ],
   "source": [
    "# Count number of firms per industry category (after recoding)\n",
    "industry_counts = data.groupby(\"ind2_cat\")[\"comp_id\"].count().sort_index()\n",
    "print(industry_counts)\n"
   ]
  },
  {
   "cell_type": "code",
   "execution_count": 15,
   "id": "70cf2e22-8afd-4e1d-9a96-8dad43d40d6d",
   "metadata": {},
   "outputs": [],
   "source": [
    "# Add squared age term to capture nonlinear age effects\n",
    "data[\"age2\"] = data[\"age\"] ** 2\n",
    "\n",
    "# Binary indicator: foreign management if share foreign ≥ 0.5\n",
    "data[\"foreign_management\"] = np.where(\n",
    "    data[\"foreign\"] >= 0.5, 1,\n",
    "    np.where(data[\"foreign\"].isna(), np.nan, 0)\n",
    ")\n",
    "\n",
    "# Convert to categorical for modeling\n",
    "data[\"gender_m\"] = data[\"gender\"].astype(\"category\")\n",
    "data[\"m_region_loc\"] = data[\"region_m\"].astype(\"category\")\n"
   ]
  },
  {
   "cell_type": "code",
   "execution_count": 16,
   "id": "54f75427-95ce-4d65-9a16-702a4d648562",
   "metadata": {},
   "outputs": [
    {
     "name": "stdout",
     "output_type": "stream",
     "text": [
      "flag_asset_problem\n",
      "0.0    43149\n",
      "1.0       27\n",
      "Name: comp_id, dtype: int64\n"
     ]
    }
   ],
   "source": [
    "# Flag potential asset data issues (negative values)\n",
    "data[\"flag_asset_problem\"] = np.where(\n",
    "    (data[\"intang_assets\"] < 0) | (data[\"curr_assets\"] < 0) | (data[\"fixed_assets\"] < 0),\n",
    "    1,\n",
    "    0\n",
    ")\n",
    "\n",
    "# Set flag to NaN if any asset component is missing\n",
    "data[\"flag_asset_problem\"] = np.where(\n",
    "    data[[\"intang_assets\", \"curr_assets\", \"fixed_assets\"]].isna().any(axis=1),\n",
    "    np.nan,\n",
    "    data[\"flag_asset_problem\"]\n",
    ")\n",
    "\n",
    "# Check how many firms fall into each flag category\n",
    "print(data.groupby(\"flag_asset_problem\")[\"comp_id\"].count())\n"
   ]
  },
  {
   "cell_type": "code",
   "execution_count": 17,
   "id": "54e27f2d-7482-4bf8-a74c-9e98bb11135b",
   "metadata": {},
   "outputs": [],
   "source": [
    "# Set negative asset values to zero (likely errors or misreporting)\n",
    "data[\"intang_assets\"] = np.where(data[\"intang_assets\"] < 0, 0, data[\"intang_assets\"])\n",
    "data[\"curr_assets\"]   = np.where(data[\"curr_assets\"] < 0, 0, data[\"curr_assets\"])\n",
    "data[\"fixed_assets\"]  = np.where(data[\"fixed_assets\"] < 0, 0, data[\"fixed_assets\"])\n"
   ]
  },
  {
   "cell_type": "code",
   "execution_count": 18,
   "id": "c0f25983-347f-4859-989a-e262ad65e3f8",
   "metadata": {},
   "outputs": [
    {
     "name": "stdout",
     "output_type": "stream",
     "text": [
      "count    4.317600e+04\n",
      "mean     2.606682e+05\n",
      "std      1.536095e+06\n",
      "min      0.000000e+00\n",
      "25%      6.813889e+03\n",
      "50%      2.495926e+04\n",
      "75%      9.864352e+04\n",
      "max      1.325147e+08\n",
      "Name: total_assets_bs, dtype: float64\n"
     ]
    }
   ],
   "source": [
    "# Construct total assets from balance sheet components\n",
    "data[\"total_assets_bs\"] = (\n",
    "    data[\"intang_assets\"] + data[\"curr_assets\"] + data[\"fixed_assets\"]\n",
    ")\n",
    "\n",
    "# Quick check on the distribution\n",
    "print(data[\"total_assets_bs\"].describe())\n"
   ]
  },
  {
   "cell_type": "code",
   "execution_count": 19,
   "id": "52b1c3bf-3293-485c-b804-58ab0b6ef0a7",
   "metadata": {},
   "outputs": [],
   "source": [
    "# Define income statement (P&L) and balance sheet variable groups for processing\n",
    "pl_names = [\n",
    "    \"extra_exp\", \"extra_inc\", \"extra_profit_loss\", \"inc_bef_tax\",\n",
    "    \"inventories\", \"material_exp\", \"profit_loss_year\", \"personnel_exp\"\n",
    "]\n",
    "\n",
    "bs_names = [\n",
    "    \"intang_assets\", \"curr_liab\", \"fixed_assets\", \"liq_assets\",\n",
    "    \"curr_assets\", \"share_eq\", \"subscribed_cap\", \"tang_assets\"\n",
    "]\n"
   ]
  },
  {
   "cell_type": "code",
   "execution_count": 20,
   "id": "2b110c82-23a3-4819-bbd8-bcc218cecab2",
   "metadata": {},
   "outputs": [],
   "source": [
    "# Normalize income statement variables by sales (e.g., profitability ratios)\n",
    "data[[col + \"_pl\" for col in pl_names]] = data[pl_names].div(\n",
    "    data[\"sales\"], axis=\"index\"\n",
    ")\n"
   ]
  },
  {
   "cell_type": "code",
   "execution_count": 21,
   "id": "6485ecc3-65f2-44bf-845b-cd403c8080d2",
   "metadata": {},
   "outputs": [],
   "source": [
    "# # divide all bs_names elements by total_assets_bs and create new column for it\n",
    "# data[[col + \"_bs\" for col in bs_names]] = (\n",
    "#     data[bs_names]\n",
    "#     .div(data[\"total_assets_bs\"], axis=\"index\")\n",
    "#     .replace((np.inf, -np.inf, np.nan), (0, 0, 0))\n",
    "# )\n",
    "# # get Nan values where total_assets_bs is NaN\n",
    "# for col in bs_names:\n",
    "#     data[col + \"_bs\"] = np.where(\n",
    "#         data[\"total_assets_bs\"].isna(), np.nan, data[col + \"_bs\"]\n",
    "#     )"
   ]
  },
  {
   "cell_type": "code",
   "execution_count": 22,
   "id": "cd4d2afa",
   "metadata": {},
   "outputs": [],
   "source": [
    "# Normalize balance sheet variables by total assets\n",
    "scaled_bs = data[bs_names].div(data[\"total_assets_bs\"], axis=\"index\")\n",
    "\n",
    "# Replace inf/-inf/NaN with 0s temporarily to keep ratios numeric\n",
    "scaled_bs = scaled_bs.replace([np.inf, -np.inf, np.nan], 0)\n",
    "\n",
    "# Assign to new columns with \"_bs\" suffix\n",
    "data[[col + \"_bs\" for col in bs_names]] = scaled_bs\n",
    "\n",
    "# Restore NaN where total_assets_bs was originally missing\n",
    "for col in bs_names:\n",
    "    data[col + \"_bs\"] = np.where(\n",
    "        data[\"total_assets_bs\"].isna(), np.nan, data[col + \"_bs\"]\n",
    "    )\n"
   ]
  },
  {
   "cell_type": "code",
   "execution_count": 23,
   "id": "508b9858-b6eb-44e5-bf25-7c8915ded156",
   "metadata": {},
   "outputs": [],
   "source": [
    "\n",
    "# Flag extreme values and winsorize accounting variables\n",
    "\n",
    "# Accounting variables that must be non-negative and ≤ 1 after scaling\n",
    "zero = [\n",
    "    \"extra_exp_pl\", \"extra_inc_pl\", \"inventories_pl\", \"material_exp_pl\",\n",
    "    \"personnel_exp_pl\", \"curr_liab_bs\", \"fixed_assets_bs\", \"liq_assets_bs\",\n",
    "    \"curr_assets_bs\", \"subscribed_cap_bs\", \"intang_assets_bs\"\n",
    "]\n",
    "\n",
    "# Flag values greater than 1 (likely inflated or misreported)\n",
    "data[[col + \"_flag_high\" for col in zero]] = np.where(\n",
    "    data[zero].isna(), np.nan, (data[zero] > 1).astype(int)\n",
    ")\n",
    "\n",
    "# Winsorize: cap all values above 1 to 1\n",
    "data[zero] = np.where(\n",
    "    data[zero].isna(), np.nan, np.where(data[zero] > 1, 1, data[zero])\n",
    ")\n",
    "\n",
    "# Flag values below 0 (should not occur)\n",
    "data[[col + \"_flag_error\" for col in zero]] = np.where(\n",
    "    data[zero].isna(), np.nan, (data[zero] < 0).astype(int)\n",
    ")\n",
    "\n",
    "# Correct negatives by setting them to 0\n",
    "data[zero] = np.where(\n",
    "    data[zero].isna(), np.nan, np.where(data[zero] < 0, 0, data[zero])\n",
    ")\n"
   ]
  },
  {
   "cell_type": "code",
   "execution_count": 24,
   "id": "36977055-cab1-467d-9b17-038ce3c3efb9",
   "metadata": {},
   "outputs": [],
   "source": [
    "# # for vars that could be any, but are mostly between -1 and 1\n",
    "# anyof = [\"extra_profit_loss_pl\", \"inc_bef_tax_pl\", \"profit_loss_year_pl\", \"share_eq_bs\"]\n",
    "\n",
    "# data[[col + \"_flag_low\" for col in anyof]] = np.where(\n",
    "#     data[anyof].isna(), np.nan, (data[anyof] < -1).astype(int)\n",
    "# )\n",
    "# data[[col for col in anyof]] = np.where(\n",
    "#     data[anyof].isna(), np.nan, np.where((data[anyof] < -1), -1, data[anyof])\n",
    "# )\n",
    "# data[[col + \"_flag_high\" for col in anyof]] = np.where(\n",
    "#     data[anyof].isna(), np.nan, (data[anyof] > 1).astype(int)\n",
    "# )\n",
    "# data[[col for col in anyof]] = np.where(\n",
    "#     data[anyof].isna(), np.nan, np.where((data[anyof] > 1), 1, data[anyof])\n",
    "# )\n",
    "# data[[col + \"_flag_zero\" for col in anyof]] = np.where(\n",
    "#     data[anyof].isna(), np.nan, (data[anyof] == 0).astype(int)\n",
    "# )\n",
    "# data[[col + \"_quad\" for col in anyof]] = np.where(\n",
    "#     data[anyof].isna(), np.nan, data[anyof] ** 2\n",
    "# )"
   ]
  },
  {
   "cell_type": "code",
   "execution_count": 25,
   "id": "52e17a36",
   "metadata": {},
   "outputs": [],
   "source": [
    "# Variables that can be negative or positive, typically in [-1, 1] range\n",
    "anyof = [\"extra_profit_loss_pl\", \"inc_bef_tax_pl\", \"profit_loss_year_pl\", \"share_eq_bs\"]\n",
    "\n",
    "# Flag low outliers (< -1)\n",
    "data[[col + \"_flag_low\" for col in anyof]] = np.where(\n",
    "    data[anyof].isna(), np.nan, (data[anyof] < -1).astype(int)\n",
    ")\n",
    "\n",
    "# Winsorize low values to -1\n",
    "data[anyof] = np.where(\n",
    "    data[anyof].isna(), np.nan, np.where(data[anyof] < -1, -1, data[anyof])\n",
    ")\n",
    "\n",
    "# Flag high outliers (> 1)\n",
    "data[[col + \"_flag_high\" for col in anyof]] = np.where(\n",
    "    data[anyof].isna(), np.nan, (data[anyof] > 1).astype(int)\n",
    ")\n",
    "\n",
    "# Winsorize high values to 1\n",
    "data[anyof] = np.where(\n",
    "    data[anyof].isna(), np.nan, np.where(data[anyof] > 1, 1, data[anyof])\n",
    ")\n",
    "\n",
    "# Flag exact zeros (break-even)\n",
    "data[[col + \"_flag_zero\" for col in anyof]] = np.where(\n",
    "    data[anyof].isna(), np.nan, (data[anyof] == 0).astype(int)\n",
    ")\n",
    "\n",
    "# Create squared terms for capturing nonlinearities\n",
    "data[[col + \"_quad\" for col in anyof]] = np.where(\n",
    "    data[anyof].isna(), np.nan, data[anyof] ** 2\n",
    ")\n"
   ]
  },
  {
   "cell_type": "code",
   "execution_count": 26,
   "id": "22bdad96-780b-4908-bbbf-96f53d6a8b55",
   "metadata": {},
   "outputs": [],
   "source": [
    "# Drop flag variables with no variation (std = 0)\n",
    "flag_columns = [col for col in data.columns if \"flag\" in col]\n",
    "data = data.drop(\n",
    "    data[flag_columns].std()[data[flag_columns].std() == 0].index,\n",
    "    axis=1\n",
    ")\n"
   ]
  },
  {
   "cell_type": "code",
   "execution_count": 27,
   "id": "905528f1-1e6f-4c27-b42b-41f6f63c3d8a",
   "metadata": {},
   "outputs": [],
   "source": [
    "\n",
    "# Calculate CEO age from birth year\n",
    "data[\"ceo_age\"] = data[\"year\"] - data[\"birth_year\"]\n",
    "\n",
    "# Flag unrealistic or missing values\n",
    "data = data.assign(\n",
    "    flag_low_ceo_age=(data[\"ceo_age\"] < 25).astype(int),\n",
    "    flag_high_ceo_age=(data[\"ceo_age\"] > 75).astype(int),\n",
    "    flag_miss_ceo_age=data[\"ceo_age\"].isna().astype(int)\n",
    ")\n",
    "\n",
    "# Winsorize unrealistic age values to 25–75\n",
    "data[\"ceo_age\"] = np.where(data[\"ceo_age\"] < 25, 25, data[\"ceo_age\"])\n",
    "data[\"ceo_age\"] = np.where(data[\"ceo_age\"] > 75, 75, data[\"ceo_age\"])\n",
    "\n",
    "# Impute missing ages with mean age\n",
    "data[\"ceo_age\"] = np.where(\n",
    "    data[\"ceo_age\"].isna(), data[\"ceo_age\"].mean(), data[\"ceo_age\"]\n",
    ")\n",
    "\n",
    "# Binary flag for young CEOs (< 40)\n",
    "data[\"ceo_young\"] = (data[\"ceo_age\"] < 40).astype(int)\n"
   ]
  },
  {
   "cell_type": "code",
   "execution_count": 28,
   "id": "88c240d1-f10d-469d-93c7-b219b761282f",
   "metadata": {},
   "outputs": [],
   "source": [
    "# Impute missing labor_avg using mean and flag missing values\n",
    "data[\"labor_avg_mod\"] = np.where(\n",
    "    data[\"labor_avg\"].isna(), data[\"labor_avg\"].mean(), data[\"labor_avg\"]\n",
    ")\n",
    "data[\"flag_miss_labor_avg\"] = data[\"labor_avg\"].isna().astype(int)\n"
   ]
  },
  {
   "cell_type": "code",
   "execution_count": 29,
   "id": "8d689362-41ea-4f6d-b16d-a56c804eee02",
   "metadata": {},
   "outputs": [
    {
     "data": {
      "text/plain": [
       "count    35343.000000\n",
       "mean         0.639393\n",
       "std          1.620090\n",
       "min          0.083333\n",
       "25%          0.106061\n",
       "50%          0.238095\n",
       "75%          0.534722\n",
       "max         63.974998\n",
       "Name: labor_avg, dtype: float64"
      ]
     },
     "execution_count": 29,
     "metadata": {},
     "output_type": "execute_result"
    }
   ],
   "source": [
    "data[\"labor_avg\"].describe()"
   ]
  },
  {
   "cell_type": "code",
   "execution_count": 30,
   "id": "f9173fa1-2873-45d1-81bf-bd1a51fc8063",
   "metadata": {},
   "outputs": [
    {
     "data": {
      "text/plain": [
       "count    43187.000000\n",
       "mean         0.639393\n",
       "std          1.465593\n",
       "min          0.083333\n",
       "25%          0.143939\n",
       "50%          0.333333\n",
       "75%          0.639393\n",
       "max         63.974998\n",
       "Name: labor_avg_mod, dtype: float64"
      ]
     },
     "execution_count": 30,
     "metadata": {},
     "output_type": "execute_result"
    }
   ],
   "source": [
    "data[\"labor_avg_mod\"].describe()"
   ]
  },
  {
   "cell_type": "code",
   "execution_count": 31,
   "id": "5a7f7dc2-343d-4eb9-8082-78b81eeb4c62",
   "metadata": {},
   "outputs": [],
   "source": [
    "data = data.drop([\"labor_avg\"], axis=1)"
   ]
  },
  {
   "cell_type": "code",
   "execution_count": 32,
   "id": "3811d66f-3cab-4a69-8812-ea4f9cc66194",
   "metadata": {},
   "outputs": [],
   "source": [
    "# Convert key variables to categorical types\n",
    "data[\"urban_m\"] = data[\"urban_m\"].astype(\"category\")\n",
    "data[\"ind2_cat\"] = data[\"ind2_cat\"].astype(\"category\")\n",
    "\n",
    "# Create labeled version of the default variable\n",
    "data[\"default_f\"] = data[\"default\"].astype(\"category\")\n",
    "data[\"default_f\"] = data[\"default_f\"].cat.rename_categories([\"no_default\", \"default\"])\n"
   ]
  },
  {
   "cell_type": "code",
   "execution_count": 33,
   "id": "cf291bee-7228-4145-9ea4-8650bf84b1e8",
   "metadata": {},
   "outputs": [],
   "source": [
    "# Add squared term of log sales to capture nonlinear firm size effects\n",
    "data[\"sales_mil_log_sq\"] = data[\"sales_mil_log\"] ** 2\n"
   ]
  },
  {
   "cell_type": "code",
   "execution_count": 34,
   "id": "cb6f1ef7-0c92-4e39-bdff-a4b215f6793f",
   "metadata": {
    "scrolled": false
   },
   "outputs": [
    {
     "data": {
      "image/png": "[encoded data removed]"
     },
     "metadata": {
      "image/png": {
       "height": 480,
       "width": 640
      }
     },
     "output_type": "display_data"
    }
   ],
   "source": [
    "\n",
    "color = ['blue', 'red', 'green']\n",
    "\n",
    "# Plot default vs log sales with linear and LOESS smoothers\n",
    "(\n",
    "    ggplot(data, aes(x=\"sales_mil_log\", y=\"default\"))\n",
    "    + geom_point(color=color[0])\n",
    "    + geom_smooth(method=\"lm\", formula=\"y ~ x + I(x**2)\", color=color[1], se=False)\n",
    "    + geom_smooth(method=\"loess\", color=color[2], se=False, size=1.5, span=0.9)\n",
    "    + labs(x=\"Log(Sales in Millions)\", y=\"Default Probability\")\n",
    "    + theme_bw()\n",
    ")"
   ]
  },
  {
   "cell_type": "markdown",
   "id": "4fbf3e8c",
   "metadata": {},
   "source": [
    "\n",
    "\n",
    "The plot illustrates a clear negative relationship between log sales and default probability: smaller firms are more likely to default. Both a quadratic regression (red) and a LOESS smoother (green) reveal this trend, with a slight uptick in risk for very large firms. The close alignment between the two curves suggests that a quadratic model effectively captures the nonlinearity in the data.\n"
   ]
  },
  {
   "cell_type": "code",
   "execution_count": 35,
   "id": "a338a1a9-12d1-449b-a7b6-e6c4fe282833",
   "metadata": {},
   "outputs": [
    {
     "name": "stdout",
     "output_type": "stream",
     "text": [
      "                            OLS Regression Results                            \n",
      "==============================================================================\n",
      "Dep. Variable:                default   R-squared:                       0.060\n",
      "Model:                            OLS   Adj. R-squared:                  0.060\n",
      "Method:                 Least Squares   F-statistic:                     1381.\n",
      "Date:                Mon, 07 Apr 2025   Prob (F-statistic):               0.00\n",
      "Time:                        19:30:53   Log-Likelihood:                -19935.\n",
      "No. Observations:               43187   AIC:                         3.988e+04\n",
      "Df Residuals:                   43184   BIC:                         3.990e+04\n",
      "Df Model:                           2                                         \n",
      "Covariance Type:            nonrobust                                         \n",
      "====================================================================================\n",
      "                       coef    std err          t      P>|t|      [0.025      0.975]\n",
      "------------------------------------------------------------------------------------\n",
      "Intercept            0.0563      0.004     12.764      0.000       0.048       0.065\n",
      "sales_mil_log       -0.0210      0.003     -7.598      0.000      -0.026      -0.016\n",
      "sales_mil_log_sq     0.0060      0.000     13.261      0.000       0.005       0.007\n",
      "==============================================================================\n",
      "Omnibus:                     8452.493   Durbin-Watson:                   1.992\n",
      "Prob(Omnibus):                  0.000   Jarque-Bera (JB):            14501.021\n",
      "Skew:                           1.407   Prob(JB):                         0.00\n",
      "Kurtosis:                       3.376   Cond. No.                         44.7\n",
      "==============================================================================\n",
      "\n",
      "Notes:\n",
      "[1] Standard Errors assume that the covariance matrix of the errors is correctly specified.\n"
     ]
    }
   ],
   "source": [
    "# Linear regressions\n",
    "ols_s = smf.ols(\"default ~ sales_mil_log + sales_mil_log_sq\", data=data).fit()\n",
    "print(ols_s.summary())"
   ]
  },
  {
   "cell_type": "markdown",
   "id": "3cdfaad3",
   "metadata": {},
   "source": [
    "\n",
    "- The coefficient on `sales_mil_log` is negative, suggesting that default probability decreases with firm size initially.\n",
    "- The positive coefficient on `sales_mil_log_sq` implies a **U-shaped pattern**, where default risk begins to increase again for the largest firms.\n",
    "\n",
    "While the model explains only a modest share of the variation in default outcomes (R² = 0.06), the joint significance of the terms (F-statistic = 1381, *p* < 0.001) supports the inclusion of both linear and squared log-sales terms in subsequent models.\n"
   ]
  },
  {
   "cell_type": "code",
   "execution_count": 36,
   "id": "d21e98f9-b3eb-429a-8a91-27dd756cbc02",
   "metadata": {},
   "outputs": [
    {
     "data": {
      "text/plain": [
       "count    43187.000000\n",
       "mean        -0.062659\n",
       "std          0.891754\n",
       "min         -6.907755\n",
       "25%         -0.145370\n",
       "50%          0.000000\n",
       "75%          0.132901\n",
       "max          9.344612\n",
       "Name: d1_sales_mil_log, dtype: float64"
      ]
     },
     "execution_count": 36,
     "metadata": {},
     "output_type": "execute_result"
    }
   ],
   "source": [
    "\n",
    "# sales change\n",
    "\n",
    "# Note: graphs not in book\n",
    "\n",
    "# Summary statistics for 1-year log sales growth\n",
    "data[\"d1_sales_mil_log\"].describe()"
   ]
  },
  {
   "cell_type": "code",
   "execution_count": 37,
   "id": "74b7a08d-3d6f-4bee-b0ba-d47669cbc40c",
   "metadata": {},
   "outputs": [
    {
     "data": {
      "image/png": "[encoded data removed]"
     },
     "metadata": {
      "image/png": {
       "height": 480,
       "width": 640
      }
     },
     "output_type": "display_data"
    }
   ],
   "source": [
    "\n",
    "(\n",
    "    ggplot(data, aes(x=\"d1_sales_mil_log\", y=\"default\"))\n",
    "    + geom_point(color=color[1])\n",
    "    + geom_smooth(method=\"loess\", color=color[0], se=False, size=1.5, span=0.9)\n",
    "    + labs(x=\"Growth rate (Diff of ln sales)\", y=\"default\")\n",
    "    + scale_x_continuous(limits=(-6, 10), breaks=list(range(-5, 11, 5)))\n",
    "    + theme_bw()\n",
    ")\n"
   ]
  },
  {
   "cell_type": "markdown",
   "id": "624c7e52",
   "metadata": {},
   "source": [
    "\n",
    "This plot shows how default probability varies with log sales growth. The LOESS smoother (blue) reveals a **nonlinear pattern**, where firms with **moderate negative growth** face the highest default risk. Extremely high or low growth rates are associated with **lower observed default**, possibly reflecting noise or selection effects at the extremes. The results support using a **winsorized and nonlinear growth specification** in modeling.\n"
   ]
  },
  {
   "cell_type": "code",
   "execution_count": 38,
   "id": "36dd4867-599b-4e8b-bcb1-12aace1147e4",
   "metadata": {},
   "outputs": [],
   "source": [
    "# Flag firms with extreme negative or positive sales growth\n",
    "data[\"flag_low_d1_sales_mil_log\"] = (data[\"d1_sales_mil_log\"] < -1.5).astype(int)\n",
    "data[\"flag_high_d1_sales_mil_log\"] = (data[\"d1_sales_mil_log\"] > 1.5).astype(int)\n",
    "\n",
    "# Winsorize growth: cap at ±1.5 and create squared term\n",
    "data[\"d1_sales_mil_log_mod\"] = np.where(\n",
    "    data[\"d1_sales_mil_log\"] < -1.5, -1.5,\n",
    "    np.where(data[\"d1_sales_mil_log\"] > 1.5, 1.5, data[\"d1_sales_mil_log\"])\n",
    ")\n",
    "data[\"d1_sales_mil_log_mod_sq\"] = data[\"d1_sales_mil_log_mod\"] ** 2\n"
   ]
  },
  {
   "cell_type": "code",
   "execution_count": 39,
   "id": "beb93b42-741b-4cf9-88e7-9aaabb557da9",
   "metadata": {},
   "outputs": [],
   "source": [
    "# no more imputation, drop obs if key vars missing\n",
    "data = data.dropna(subset=[\"liq_assets_bs\", \"foreign\", \"ind\"])"
   ]
  },
  {
   "cell_type": "code",
   "execution_count": 40,
   "id": "52489038-a2b4-417d-bdcf-31b8a0da154b",
   "metadata": {},
   "outputs": [
    {
     "name": "stdout",
     "output_type": "stream",
     "text": [
      "count    37919.000000\n",
      "mean         8.872966\n",
      "std          7.030835\n",
      "min          0.000000\n",
      "25%          2.000000\n",
      "50%          7.000000\n",
      "75%         15.000000\n",
      "max         62.000000\n",
      "Name: age, dtype: float64\n"
     ]
    }
   ],
   "source": [
    "# Drop rows with missing values in selected key features\n",
    "data = data.dropna(subset=[\"age\", \"foreign\", \"material_exp_pl\", \"m_region_loc\"])\n",
    "\n",
    "# Check resulting distribution of firm age\n",
    "print(data[\"age\"].describe())\n"
   ]
  },
  {
   "cell_type": "code",
   "execution_count": 41,
   "id": "4be18f18-1d37-4e35-8cb3-c5e92eb0475a",
   "metadata": {},
   "outputs": [],
   "source": [
    "# drop unused factor levels\n",
    "for col in data.select_dtypes(include=[\"category\"]).columns:\n",
    "    data[col] = data[col].cat.remove_unused_categories()"
   ]
  },
  {
   "cell_type": "code",
   "execution_count": 42,
   "id": "49dd2073-ac23-4425-a7f4-e560da9ba500",
   "metadata": {},
   "outputs": [
    {
     "data": {
      "image/png": "[encoded data removed]"
     },
     "metadata": {
      "image/png": {
       "height": 480,
       "width": 640
      }
     },
     "output_type": "display_data"
    }
   ],
   "source": [
    "# Plot: Relationship between capped sales growth and default probability\n",
    "(\n",
    "    ggplot(data, aes(x=\"d1_sales_mil_log\", y=\"default\"))\n",
    "    + geom_point(size=0.1, color=color[1])  # Red points\n",
    "    + geom_smooth(method=\"loess\", color=color[0], se=False, size=1.5, span=0.9)  # Blue smoother\n",
    "    + labs(x=\"Growth Rate (Δ ln Sales)\", y=\"Default Probability\")\n",
    "    + scale_x_continuous(limits=(-1.5, 1.5), breaks=np.arange(-1.5, 2.0, 0.5))\n",
    "    + theme_bw()\n",
    ")\n"
   ]
  },
  {
   "cell_type": "markdown",
   "id": "84167082",
   "metadata": {},
   "source": [
    "This plot focuses on the relationship between default probability and **winsorized log sales growth** (capped at ±1.5). The LOESS curve (blue) shows a **U-shaped pattern**: default risk is highest among firms with sharp negative growth, lowest around moderate positive growth, and rises again with high positive growth. This pattern supports the use of **both linear and quadratic growth terms** in predictive modeling and validates the decision to cap extreme values.\n"
   ]
  },
  {
   "cell_type": "code",
   "execution_count": 43,
   "id": "620aa124-2c69-42ec-bb04-44014dae7f25",
   "metadata": {},
   "outputs": [
    {
     "data": {
      "image/png": "[encoded data removed]"
     },
     "metadata": {
      "image/png": {
       "height": 480,
       "width": 640
      }
     },
     "output_type": "display_data"
    }
   ],
   "source": [
    "# Visualize winsorization effect on sales growth\n",
    "(\n",
    "    ggplot(data, aes(x=\"d1_sales_mil_log\", y=\"d1_sales_mil_log_mod\"))\n",
    "    + geom_point(size=0.1, color=color[1])  # Red points\n",
    "    + labs(\n",
    "        x=\"Original Growth Rate (Δ ln Sales)\",\n",
    "        y=\"Winsorized Growth Rate (Δ ln Sales)\"\n",
    "    )\n",
    "    + scale_x_continuous(limits=(-5, 5), breaks=np.arange(-5, 6, 1))\n",
    "    + scale_y_continuous(limits=(-3, 3), breaks=np.arange(-3, 4, 1))\n",
    "    + theme_bw()\n",
    ")\n"
   ]
  },
  {
   "cell_type": "markdown",
   "id": "3be4c1a4",
   "metadata": {},
   "source": [
    "This graph displays the effect of winsorization on log sales growth. Original growth values beyond ±1.5 are capped at these thresholds to limit the influence of extreme outliers. The transformation preserves variation within the central range while controlling for distortive tail behavior. This preprocessing step supports model robustness and improves interpretability of growth-related features.\n"
   ]
  },
  {
   "cell_type": "code",
   "execution_count": 44,
   "id": "2d953773-cb7d-4e7a-b613-f5ec28f702a3",
   "metadata": {},
   "outputs": [],
   "source": [
    "# Save final cleaned and feature-engineered dataset\n",
    "data.to_csv(\"bisnode_firms_clean.csv\", index=False)"
   ]
  },
  {
   "cell_type": "markdown",
   "id": "4dbcb629",
   "metadata": {},
   "source": [
    "### Growth Rate Feature Engineering and Winsorization\n",
    "\n",
    "To account for firm-level growth dynamics, we engineered a variable representing **growth in sales**, computed as the **log difference in sales revenue** between consecutive years\n",
    "\n",
    "This variable, `d1_sales_mil_log`, captures proportional changes in revenue and is commonly used in corporate finance analysis.\n",
    "\n",
    "#### Observations and Issues:\n",
    "- The distribution of growth rates is **highly skewed**, with extreme values on both tails (see plots).\n",
    "- Firms with extremely high or low growth are likely due to data noise or rare events.\n",
    "- These outliers could **distort model performance**, especially for linear models.\n",
    "\n",
    "#### Winsorization:\n",
    "To address this, we applied **winsorization** at ±1.5, capping extreme values:\n",
    "- Observations below -1.5 were set to -1.5.\n",
    "- Observations above +1.5 were set to +1.5.\n",
    "\n",
    "This new variable, `d1_sales_mil_log_mod`, retains informative variation while reducing the influence of outliers. A squared term `d1_sales_mil_log_mod_sq` was also created to allow for **nonlinear relationships** in models.\n",
    "\n",
    "#### Flags and Visualization:\n",
    "- Binary flags (`flag_low_d1_sales_mil_log`, `flag_high_d1_sales_mil_log`) were created to retain information about extreme growth observations.\n",
    "- Lowess plots and polynomial fits confirmed the **nonlinear U-shaped** relationship between growth and default probability.\n",
    "\n",
    "#### Cleanup:\n",
    "We then removed observations with missing values in key predictors and cleaned up unused factor levels. The final cleaned dataset was exported as `bisnode_firms_clean.csv`, ready for modeling.\n",
    "\n"
   ]
  },
  {
   "cell_type": "markdown",
   "id": "70bfa59d",
   "metadata": {},
   "source": [
    "### Feature Engineering Summary\n",
    "\n",
    "The feature engineering process transformed raw firm-level accounting and demographic data into a clean, model-ready format. Categorical variables such as industry (`ind2_cat`) were grouped to reduce dimensionality, ensuring adequate representation across categories (e.g., industry 56 accounts for over 25,000 observations). Data validation flags, such as `flag_asset_problem`, confirmed a high degree of consistency, with only 27 firms showing potential balance sheet issues out of over 43,000.\n",
    "\n",
    "The variable `total_assets_bs`, computed from cleaned asset components, exhibited a highly skewed distribution, as expected, with a median of approximately €25,000 and a maximum exceeding €130 million. Employee count (`labor_avg`) was imputed using the mean, yielding a more stable `labor_avg_mod`, while preserving a flag for missingness.\n",
    "\n",
    "An exploratory OLS regression of default on log sales and its square confirmed a significant nonlinear relationship, supporting the inclusion of these terms in predictive models (both *p* < 0.001). Although the R² was modest (0.06), the joint significance of predictors reinforced their relevance.\n"
   ]
  },
  {
   "cell_type": "markdown",
   "id": "401606d1-7b75-4f22-a36c-78559a123592",
   "metadata": {},
   "source": [
    "## The Assignment  \n",
    "\n",
    "### 1. Build a Model to Predict Fast Growth of Firms Using the Bisnode-Firms Data\n",
    "\n",
    "### How the Fast Growth Target Was Calculated\n",
    "\n",
    "The fast growth target was constructed using the following formula:\n",
    "\n",
    "$$\n",
    "\\text{growth_rate} = \\frac{\\text{sales}_{2013} - \\text{sales}_{2012}}{\\text{sales}_{2012}}\n",
    "$$\n",
    "\n",
    "This measures the relative year-over-year sales increase between 2012 and 2013. Firms exceeding the 75th percentile of this distribution were classified as experiencing **fast growth**. A binary indicator (`fast_growth = 1`) flags these top-performing firms, while all others are labeled as non-fast-growth (`fast_growth = 0`).\n",
    "\n",
    "### Rationale and Alternatives\n",
    "\n",
    "Relative sales growth is a standard corporate finance metric, as it enables comparison across firms of varying sizes and scales. This approach highlights firms with significant expansion in market activity, independent of initial scale. Using the 75th percentile as a cutoff captures firms with exceptional growth trajectories, likely reflecting innovation, strategic investment, or competitive positioning.\n",
    "\n",
    "Alternative approaches were considered:\n",
    "\n",
    "- **Absolute growth**: Focuses on raw sales increase but disproportionately favors large firms.\n",
    "- **Log differences**: A normalized metric that reduces the influence of outliers and improves comparability.\n",
    "- **Profit-based growth**: Incorporates quality of growth (e.g., via EBITDA), but such variables are often more volatile and sparsely reported.\n",
    "\n",
    "Despite these alternatives, relative sales growth remains both intuitive and robust for identifying high-growth firms in panel data.\n",
    "\n",
    "---\n",
    "\n",
    "### Dataset Construction for Modeling\n",
    "\n",
    "- Source: Cleaned panel dataset (`bisnode_firms_clean.csv`)\n",
    "- **Target creation**:\n",
    "  - Pivoted sales data to extract `sales_2012` and `sales_2013`\n",
    "  - Computed `growth_rate` and binary `fast_growth` indicator\n",
    "- **Feature set**: Selected firm-level variables from 2012, including:\n",
    "  - Industry category\n",
    "  - Flags for new firms, foreign management, CEO age\n",
    "  - Financial ratios and categorical indicators (e.g., high expenses, equity levels)\n",
    "\n",
    "The final dataset contains:\n",
    "- One observation per firm\n",
    "- A binary target (`fast_growth`)\n",
    "- Predictors reflecting firm characteristics as of 2012\n",
    "\n",
    "This structure serves as the basis for **Part I: Probability Prediction**, where we estimate the likelihood of fast growth using various classification models."
   ]
  },
  {
   "cell_type": "code",
   "execution_count": 45,
   "id": "44d04864-fe2b-4fae-8e7a-4dcd6cb0139c",
   "metadata": {},
   "outputs": [
    {
     "name": "stdout",
     "output_type": "stream",
     "text": [
      "Index(['year', 'comp_id', 'begin', 'end', 'amort', 'curr_assets', 'curr_liab',\n",
      "       'extra_exp', 'extra_inc', 'extra_profit_loss',\n",
      "       ...\n",
      "       'flag_miss_ceo_age', 'ceo_young', 'labor_avg_mod',\n",
      "       'flag_miss_labor_avg', 'default_f', 'sales_mil_log_sq',\n",
      "       'flag_low_d1_sales_mil_log', 'flag_high_d1_sales_mil_log',\n",
      "       'd1_sales_mil_log_mod', 'd1_sales_mil_log_mod_sq'],\n",
      "      dtype='object', length=118)\n"
     ]
    }
   ],
   "source": [
    "url = \"https://raw.githubusercontent.com/CarsenEssing/ML-Assignment-3/main/bisnode_firms_clean.zip\"\n",
    "clean_data = pd.read_csv(url, compression=\"zip\")\n",
    "\n",
    "print(clean_data.columns)"
   ]
  },
  {
   "cell_type": "code",
   "execution_count": 46,
   "id": "6e47d65a-6b60-4aae-8b83-c52b04f9055a",
   "metadata": {},
   "outputs": [
    {
     "name": "stdout",
     "output_type": "stream",
     "text": [
      "Index(['sales_2012', 'sales_2013', 'growth_rate', 'fast_growth', 'ind', 'new',\n",
      "       'foreign_management', 'ceo_young', 'extra_exp_pl_flag_high',\n",
      "       'extra_inc_pl_flag_high', 'inventories_pl_flag_high',\n",
      "       'material_exp_pl_flag_high', 'personnel_exp_pl_flag_high',\n",
      "       'curr_liab_bs_flag_high', 'liq_assets_bs_flag_high',\n",
      "       'subscribed_cap_bs_flag_high', 'extra_profit_loss_pl_flag_low',\n",
      "       'inc_bef_tax_pl_flag_low', 'profit_loss_year_pl_flag_low',\n",
      "       'share_eq_bs_flag_low', 'extra_profit_loss_pl_flag_high',\n",
      "       'inc_bef_tax_pl_flag_high', 'profit_loss_year_pl_flag_high',\n",
      "       'share_eq_bs_flag_high', 'flag_low_ceo_age', 'flag_high_ceo_age'],\n",
      "      dtype='object')\n"
     ]
    }
   ],
   "source": [
    "# Pivot the panel to get sales in 2012 and 2013 per firm\n",
    "pivot_data = clean_data.pivot(index=\"comp_id\", columns=\"year\", values=\"sales\")\n",
    "pivot_data.columns = [\"sales_2012\", \"sales_2013\"]\n",
    "pivot_data = pivot_data.dropna()  # Remove firms with missing sales data\n",
    "\n",
    "# Compute percentage growth from 2012 to 2013\n",
    "pivot_data[\"growth_rate\"] = (\n",
    "    (pivot_data[\"sales_2013\"] - pivot_data[\"sales_2012\"]) / pivot_data[\"sales_2012\"]\n",
    ")\n",
    "\n",
    "# Define fast-growing firms as those above the 75th percentile in growth\n",
    "threshold = pivot_data[\"growth_rate\"].quantile(0.75)\n",
    "pivot_data[\"fast_growth\"] = (pivot_data[\"growth_rate\"] > threshold).astype(int)\n",
    "\n",
    "# Variables to include in the model\n",
    "cols_to_merge = [\n",
    "    \"ind\", \"new\", \"foreign_management\", \"ceo_young\",\n",
    "    \"extra_exp_pl_flag_high\", \"extra_inc_pl_flag_high\", \"inventories_pl_flag_high\",\n",
    "    \"material_exp_pl_flag_high\", \"personnel_exp_pl_flag_high\", \"curr_liab_bs_flag_high\",\n",
    "    \"liq_assets_bs_flag_high\", \"subscribed_cap_bs_flag_high\",\n",
    "    \"extra_profit_loss_pl_flag_low\", \"inc_bef_tax_pl_flag_low\", \"profit_loss_year_pl_flag_low\", \"share_eq_bs_flag_low\",\n",
    "    \"extra_profit_loss_pl_flag_high\", \"inc_bef_tax_pl_flag_high\", \"profit_loss_year_pl_flag_high\", \"share_eq_bs_flag_high\",\n",
    "    \"flag_low_ceo_age\", \"flag_high_ceo_age\"\n",
    "]\n",
    "\n",
    "# Extract one row per firm with the selected features\n",
    "additional_data = clean_data.drop_duplicates(subset=\"comp_id\")[[\"comp_id\"] + cols_to_merge]\n",
    "additional_data = additional_data.set_index(\"comp_id\")\n",
    "\n",
    "# Merge features into the pivoted growth dataset\n",
    "pivot_data = pivot_data.merge(additional_data, left_index=True, right_index=True, how=\"left\")\n",
    "\n",
    "# Final check: view columns\n",
    "print(pivot_data.columns)\n"
   ]
  },
  {
   "cell_type": "markdown",
   "id": "ecd90d7f-df98-4338-889f-c53c30fb50d9",
   "metadata": {},
   "source": [
    "## Build three different models"
   ]
  },
  {
   "cell_type": "code",
   "execution_count": 47,
   "id": "8fed7b38-5902-4eaa-bb53-4bdc97ae1d1d",
   "metadata": {},
   "outputs": [
    {
     "name": "stdout",
     "output_type": "stream",
     "text": [
      "                 Model  Accuracy  ROC AUC   RMSE    R^2\n",
      "0  Logistic Regression     0.760    0.675  0.414  0.089\n",
      "1        Random Forest     0.758    0.660  0.418  0.070\n",
      "2    Gradient Boosting     0.762    0.672  0.414  0.088\n"
     ]
    }
   ],
   "source": [
    "\n",
    "# --- Data Preparation ---\n",
    "# Assume pivot_data is already computed with columns:\n",
    "# \"sales_2012\", \"sales_2013\", \"growth_rate\", \"fast_growth\".\n",
    "# Adding additional features (e.g., log-transformed sales) as examples.\n",
    "pivot_data['log_sales_2012'] = np.log(pivot_data['sales_2012'])\n",
    "pivot_data['log_sales_2013'] = np.log(pivot_data['sales_2013'])\n",
    "\n",
    "# Define the feature set to include everything except the target.\n",
    "features = [\n",
    "    'ind', 'new', 'foreign_management', 'ceo_young',\n",
    "    'extra_exp_pl_flag_high', 'extra_inc_pl_flag_high', 'inventories_pl_flag_high',\n",
    "    'material_exp_pl_flag_high', 'personnel_exp_pl_flag_high',\n",
    "    'curr_liab_bs_flag_high', 'liq_assets_bs_flag_high', 'subscribed_cap_bs_flag_high',\n",
    "    'extra_profit_loss_pl_flag_low', 'inc_bef_tax_pl_flag_low', 'profit_loss_year_pl_flag_low',\n",
    "    'share_eq_bs_flag_low', 'extra_profit_loss_pl_flag_high', 'inc_bef_tax_pl_flag_high',\n",
    "    'profit_loss_year_pl_flag_high', 'share_eq_bs_flag_high', 'flag_low_ceo_age', 'flag_high_ceo_age'\n",
    "]\n",
    "\n",
    "# Separate the feature matrix (X) and the target variable (y)\n",
    "X = pivot_data[features]\n",
    "y = pivot_data['fast_growth']\n",
    "\n",
    "# Split data into training and testing sets\n",
    "X_train, X_test, y_train, y_test = train_test_split(X, y, test_size=0.3, random_state=42)\n",
    "\n",
    "# --- Model Building ---\n",
    "\n",
    "# Model 1: Logistic Regression (Logit)\n",
    "logit_model = LogisticRegression(max_iter=1000)\n",
    "logit_model.fit(X_train, y_train)\n",
    "\n",
    "# Model 2: Random Forest\n",
    "rf_model = RandomForestClassifier(n_estimators=100, random_state=42)\n",
    "rf_model.fit(X_train, y_train)\n",
    "\n",
    "# Model 3: Gradient Boosting Classifier\n",
    "gb_model = GradientBoostingClassifier(n_estimators=100, random_state=42)\n",
    "gb_model.fit(X_train, y_train)\n",
    "\n",
    "# --- Metric Computation Function ---\n",
    "def compute_metrics(model, model_name):\n",
    "    # Get predicted probabilities for the positive class (fast_growth=1)\n",
    "    y_proba = model.predict_proba(X_test)[:, 1]\n",
    "    # Compute RMSE between probabilities and actual outcomes (0/1)\n",
    "    rmse = np.sqrt(mean_squared_error(y_test, y_proba))\n",
    "    # Compute R^2 (coefficient of determination) on probabilities\n",
    "    r2 = r2_score(y_test, y_proba)\n",
    "    # Also compute accuracy and ROC AUC\n",
    "    acc = accuracy_score(y_test, model.predict(X_test))\n",
    "    roc_auc = roc_auc_score(y_test, y_proba)\n",
    "    \n",
    "    return {\n",
    "        \"Model\": model_name,\n",
    "        \"Accuracy\": round(acc, 3),\n",
    "        \"ROC AUC\": round(roc_auc, 3),\n",
    "        \"RMSE\": round(rmse, 3),\n",
    "        \"R^2\": round(r2, 3)\n",
    "    }\n",
    "\n",
    "# --- Collect Metrics for Each Model ---\n",
    "results = []\n",
    "results.append(compute_metrics(logit_model, \"Logistic Regression\"))\n",
    "results.append(compute_metrics(rf_model, \"Random Forest\"))\n",
    "results.append(compute_metrics(gb_model, \"Gradient Boosting\"))\n",
    "\n",
    "results_df = pd.DataFrame(results)\n",
    "\n",
    "# Display the \"horse race\" table of metrics\n",
    "print(results_df)\n"
   ]
  },
  {
   "cell_type": "markdown",
   "id": "10d08b8c-a0ef-4abc-90d1-6d521ce88a25",
   "metadata": {},
   "source": [
    "\n",
    "### Model Performance Comparison\n",
    "\n",
    "**Logistic Regression**  \n",
    "- **Accuracy (0.760):** Correctly classifies 76% of observations, demonstrating modest predictive accuracy.  \n",
    "- **ROC AUC (0.674):** Reflects moderate discriminative power between fast-growing and non-fast-growing firms.  \n",
    "- **RMSE (0.414):** Indicates a moderate level of error in predicted probabilities.  \n",
    "- **R² (0.089):** The model explains approximately 8.9% of the variation in the fast growth outcome.\n",
    "\n",
    "**Random Forest**  \n",
    "- **Accuracy (0.758):** Yields a similar accuracy to logistic regression, correctly predicting 75.8% of cases.  \n",
    "- **ROC AUC (0.660):** Slightly lower class separation ability than logistic regression.  \n",
    "- **RMSE (0.418):** Comparable predictive error to logistic regression.  \n",
    "- **R² (0.070):** Explains slightly less variance in the outcome, around 7%.\n",
    "\n",
    "**Gradient Boosting**  \n",
    "- **Accuracy (0.762):** Slightly higher accuracy than the other models.  \n",
    "- **ROC AUC (0.672):** Nearly identical discriminative performance to logistic regression.  \n",
    "- **RMSE (0.414):** Matches logistic regression in prediction error.  \n",
    "- **R² (0.088):** Captures about 8.8% of the variation, falling between the other models.\n",
    "\n",
    "---\n",
    "\n",
    "### Overall Summary\n",
    "\n",
    "All three models demonstrate similar predictive performance, with accuracy around 76% and ROC AUC values in the 0.66–0.67 range. RMSE values are consistent across models, and low R² values suggest that much of the variance in the fast growth outcome remains unexplained — typical for firm-level prediction tasks in heterogeneous business datasets.\n",
    "\n",
    "---\n",
    "\n",
    "### Model of Choice: Logistic Regression\n",
    "\n",
    "Despite the close race, logistic regression emerges as the preferred model for several reasons:\n",
    "\n",
    "- It achieves the highest ROC AUC (0.674), indicating slightly better class discrimination.\n",
    "- It offers full interpretability, allowing clear assessment of the effect of each predictor on the likelihood of fast growth — a critical advantage for managerial decision-making and policy implications.\n",
    "- Its performance is on par with more complex ensemble methods in terms of accuracy and error metrics (e.g., RMSE = 0.414, R² = 0.089).\n",
    "\n",
    "Given its transparency and solid performance, logistic regression represents the most compelling and actionable choice for this task."
   ]
  },
  {
   "cell_type": "markdown",
   "id": "5a0e7862",
   "metadata": {},
   "source": [
    "\n",
    "## Part I: Predictive Modeling of Fast Growth\n",
    "\n",
    "### Model Objective\n",
    "\n",
    "The objective is to predict whether a firm will experience fast growth using only information available in 2012. The target variable, `fast_growth`, is binary and equals 1 if the firm’s sales growth from 2012 to 2013 places it in the top 25% of the distribution, and 0 otherwise.\n",
    "\n",
    "### Models Trained\n",
    "\n",
    "Three classification models were trained and compared:\n",
    "\n",
    "1. **Logistic Regression (Logit)**\n",
    "2. **Random Forest Classifier**\n",
    "3. **Gradient Boosting Classifier**\n",
    "\n",
    "### Model Features\n",
    "\n",
    "All models were trained on a shared feature set derived from 2012 firm-level data, including:\n",
    "\n",
    "- Structural indicators: `ind`, `new`, `foreign_management`, `ceo_young`\n",
    "- Financial ratio flags (e.g., `extra_exp_pl_flag_high`, `profit_loss_year_pl_flag_low`)\n",
    "- CEO demographics and management quality flags\n",
    "\n",
    "### Evaluation Metrics\n",
    "\n",
    "Models were evaluated on a 30% hold-out test set using the following metrics:\n",
    "\n",
    "- **Accuracy**: Proportion of correctly classified observations\n",
    "- **ROC AUC**: Ability to rank firms by predicted probability of fast growth\n",
    "- **RMSE**: Prediction error in estimated probabilities\n",
    "- **R²**: Share of variance in the outcome explained by the model\n",
    "\n",
    "### Results Summary\n",
    "\n",
    "| Model                | Accuracy | ROC AUC | RMSE  | R²    |\n",
    "|---------------------|----------|---------|--------|--------|\n",
    "| Logistic Regression | 0.760    | 0.674   | 0.414 | 0.089 |\n",
    "| Random Forest       | 0.758    | 0.660   | 0.418 | 0.070 |\n",
    "| Gradient Boosting   | 0.762    | 0.672   | 0.414 | 0.088 |\n",
    "\n",
    "### Model Interpretation\n",
    "\n",
    "- **Logistic Regression** provides strong and interpretable performance, achieving the highest ROC AUC (0.674), with transparent coefficients that can be communicated to non-technical stakeholders.\n",
    "- **Random Forest** performs similarly in terms of accuracy and RMSE but slightly underperforms on AUC and R². As an ensemble method, it lacks interpretability.\n",
    "- **Gradient Boosting** matches logistic regression in RMSE and nearly in AUC, with slightly better accuracy (0.762), but it is more complex and less transparent.\n",
    "\n",
    "### Selected Model: Logistic Regression\n",
    "\n",
    "While all models perform comparably, logistic regression is selected as the preferred model due to:\n",
    "\n",
    "- The highest ROC AUC score\n",
    "- Comparable accuracy and error metrics\n",
    "- Full interpretability, facilitating insights into which features drive fast growth\n",
    "\n",
    "Its balance of performance and transparency makes logistic regression the most appropriate choice for this prediction task.\n"
   ]
  },
  {
   "cell_type": "code",
   "execution_count": 48,
   "id": "ae34d408-5656-49a1-be39-bc90300383a0",
   "metadata": {},
   "outputs": [
    {
     "name": "stdout",
     "output_type": "stream",
     "text": [
      "                 Model  Mean ROC AUC  Std ROC AUC\n",
      "0  Logistic Regression      0.656321     0.006909\n",
      "1        Random Forest      0.645679     0.009569\n",
      "2    Gradient Boosting      0.657683     0.008300\n"
     ]
    }
   ],
   "source": [
    "\n",
    "# Define the feature set to include everything except the target.\n",
    "features = [\n",
    "    'ind', 'new', 'foreign_management', 'ceo_young',\n",
    "    'extra_exp_pl_flag_high', 'extra_inc_pl_flag_high', 'inventories_pl_flag_high',\n",
    "    'material_exp_pl_flag_high', 'personnel_exp_pl_flag_high',\n",
    "    'curr_liab_bs_flag_high', 'liq_assets_bs_flag_high', 'subscribed_cap_bs_flag_high',\n",
    "    'extra_profit_loss_pl_flag_low', 'inc_bef_tax_pl_flag_low', 'profit_loss_year_pl_flag_low',\n",
    "    'share_eq_bs_flag_low', 'extra_profit_loss_pl_flag_high', 'inc_bef_tax_pl_flag_high',\n",
    "    'profit_loss_year_pl_flag_high', 'share_eq_bs_flag_high', 'flag_low_ceo_age', 'flag_high_ceo_age'\n",
    "]\n",
    "\n",
    "# Separate the feature matrix (X) and the target variable (y)\n",
    "X = pivot_data[features]\n",
    "y = pivot_data['fast_growth']\n",
    "\n",
    "# Define the models\n",
    "models = {\n",
    "    'Logistic Regression': LogisticRegression(max_iter=1000, random_state=42),\n",
    "    'Random Forest': RandomForestClassifier(n_estimators=100, random_state=42),\n",
    "    'Gradient Boosting': GradientBoostingClassifier(n_estimators=100, random_state=42)\n",
    "}\n",
    "\n",
    "# Set up stratified 5-fold cross-validation\n",
    "cv = StratifiedKFold(n_splits=5, shuffle=True, random_state=42)\n",
    "\n",
    "# Collect cross-validated ROC AUC scores for each model\n",
    "results = []\n",
    "for model_name, model in models.items():\n",
    "    scores = cross_val_score(model, X, y, cv=cv, scoring='roc_auc')\n",
    "    results.append({\n",
    "        'Model': model_name,\n",
    "        'Mean ROC AUC': np.mean(scores),\n",
    "        'Std ROC AUC': np.std(scores)\n",
    "    })\n",
    "\n",
    "# Create a DataFrame to display the results in a nice table\n",
    "results_df = pd.DataFrame(results)\n",
    "print(results_df)\n"
   ]
  },
  {
   "cell_type": "markdown",
   "id": "c260cc85-fc88-400a-b887-2ab04e4b1f48",
   "metadata": {},
   "source": [
    "### Model Comparison Based on Cross-Validated ROC AUC\n",
    "\n",
    "- **Logistic Regression:**\n",
    "  - **Mean ROC AUC:** 0.656712\n",
    "  - **Std ROC AUC:** 0.007001  \n",
    "  This indicates that, on average, the logistic regression model can correctly rank fast growth versus non-fast growth firms about 65.7% of the time. The low standard deviation suggests that the performance is consistent across folds.\n",
    "\n",
    "- **Random Forest:**\n",
    "  - **Mean ROC AUC:** 0.645679\n",
    "  - **Std ROC AUC:** 0.009571  \n",
    "  The random forest model shows a mean ROC AUC of approximately 64.6%, with slightly higher variability across folds. This indicates a modest discriminative ability, albeit a bit lower than logistic regression.\n",
    "\n",
    "- **Gradient Boosting:**\n",
    "  - **Mean ROC AUC:** 0.657683\n",
    "  - **Std ROC AUC:** 0.008300  \n",
    "  The gradient boosting model achieves a mean ROC AUC of around 65.8%, with a moderate standard deviation. Its performance is very similar to logistic regression, indicating a comparable ability to differentiate between fast growth and non-fast growth firms.\n",
    "\n",
    "**My Favorite:**  \n",
    "I’d lean towards the Gradient Boosting model as my favorite. Despite the close performance, it achieves the highest mean ROC AUC (0.657683), suggesting it is slightly better at distinguishing between fast growth and non-fast growth firms. The standard deviation is comparable to the other models, indicating stable performance across cross-validation folds. Given the modest overall performance, every incremental improvement is valuable, and the marginal edge in ROC AUC makes gradient boosting the preferred choice.\n"
   ]
  },
  {
   "cell_type": "markdown",
   "id": "b342142d",
   "metadata": {},
   "source": [
    "\n",
    "\n",
    "### Data and Feature Setup\n",
    "\n",
    "The models were trained on a cleaned and engineered dataset that included a variety of firm-level indicators such as:\n",
    "\n",
    "- **Firm demographics**: industry code (`ind`), foreign management, CEO age flags, new firm status\n",
    "- **Financial risk signals**: high/low flags for expense ratios, profitability ratios, liquidity ratios\n",
    "- **Sales features**: log-transformed sales from 2012, growth flags, winsorized log-difference of sales\n",
    "\n",
    "The target variable was `fast_growth`, which is binary (1 = fast growth, 0 = not fast growth).\n",
    "\n",
    "---\n",
    "\n",
    "### Models Evaluated\n",
    "\n",
    "We evaluated three models that are widely used in predictive modeling, each with different strengths:\n",
    "\n",
    "1. **Logistic Regression**  \n",
    "   - Baseline interpretable model.\n",
    "   - Assumes linear relationship between predictors and log-odds of the target.\n",
    "\n",
    "2. **Random Forest Classifier**  \n",
    "   - Non-parametric ensemble model.\n",
    "   - Captures nonlinearities and interactions.\n",
    "   - Typically robust to overfitting with enough data.\n",
    "\n",
    "3. **Gradient Boosting Classifier**  \n",
    "   - Boosted ensemble model.\n",
    "   - Often achieves superior performance in structured data problems.\n",
    "   - More sensitive to tuning but powerful out-of-the-box.\n",
    "\n",
    "---\n",
    "\n",
    "### Cross-Validation Method\n",
    "\n",
    "We used **5-fold stratified cross-validation** to ensure the target variable is proportionally represented in each fold. This prevents issues related to imbalanced splits and allows more robust estimation of model generalizability.\n",
    "\n",
    "The primary evaluation metric was **ROC AUC (Receiver Operating Characteristic - Area Under Curve)**:\n",
    "- Measures the model’s ability to rank positive instances higher than negatives.\n",
    "- Does not depend on a classification threshold.\n",
    "- Particularly useful when the positive class (fast growth) is a minority, as in this case (~25%).\n",
    "\n",
    "---\n",
    "\n",
    "### Cross-Validation Results\n",
    "\n",
    "| Model                | Mean ROC AUC | Std ROC AUC |\n",
    "|---------------------|--------------|-------------|\n",
    "| Logistic Regression | 0.656        | 0.007       |\n",
    "| Random Forest       | 0.646        | 0.010       |\n",
    "| Gradient Boosting   | 0.658        | 0.008       |\n",
    "\n",
    "#### Key Takeaways:\n",
    "\n",
    "- **Logistic Regression**: Performs solidly, with a mean ROC AUC of 0.656. This suggests it can correctly rank fast-growth firms above non-fast-growth firms approximately 65.6% of the time. Its low variance implies stable generalization.\n",
    "- **Random Forest**: Has slightly lower performance, with a mean ROC AUC of 0.646. This indicates it may struggle more with subtle distinctions in feature interactions or may be overfitting to noise.\n",
    "- **Gradient Boosting**: Achieves the best ROC AUC (0.658), albeit only marginally better than logistic regression. It balances complexity with performance, suggesting it may be capturing some nonlinear relationships not modeled by the logistic regression.\n",
    "\n",
    "---\n",
    "\n",
    "### Model Selection\n",
    "\n",
    "**Gradient Boosting Classifier** is selected as the preferred model at this stage, primarily due to:\n",
    "\n",
    "- Highest average ROC AUC among the models.\n",
    "- Consistent performance (low standard deviation).\n",
    "- Ability to capture non-linearities and subtle interactions that are often present in financial and firm-level data.\n",
    "\n",
    "However, it's worth noting that **logistic regression is close in performance** and has significant advantages in terms of **interpretability and transparency**, which may be valuable in regulated industries or stakeholder-facing applications.\n",
    "\n",
    "---\n",
    "\n",
    "### Limitations\n",
    "\n",
    "- All models achieved ROC AUCs in the range of **0.64–0.66**, indicating **moderate discriminative power**.\n",
    "- The low variance explained (R² ~0.07–0.09 from earlier metrics) suggests that fast growth is influenced by unmeasured or qualitative factors (e.g., innovation, strategic decisions) that are not captured in the data.\n",
    "- Future improvements could involve incorporating **textual analysis**, **industry-level shocks**, or **firm strategy variables**.\n"
   ]
  },
  {
   "cell_type": "markdown",
   "id": "a755e9b5-601d-4d99-b265-ca5de6479291",
   "metadata": {},
   "source": [
    "## Tasks 1\n",
    "### PART II: Classification\n",
    "* Think about the business problem, and define your loss function (like FP=X dollars, FN=Y dollars).\n",
    "* For each model:\n",
    "    * Predict probabilities.\n",
    "    * Look for the optimal classification threshold.\n",
    "    * Calculate expected loss with your loss function.\n",
    "    * Pick the model that has the smallest average (over 5 folds) expected loss."
   ]
  },
  {
   "cell_type": "code",
   "execution_count": 49,
   "id": "c5129ab5-9ded-48cd-85b8-5565e37b20af",
   "metadata": {},
   "outputs": [
    {
     "name": "stdout",
     "output_type": "stream",
     "text": [
      "                 Model  Avg Expected Loss  Avg Optimal Threshold\n",
      "0  Logistic Regression           224920.0                  0.168\n",
      "1        Random Forest           227980.0                  0.144\n",
      "2    Gradient Boosting           224700.0                  0.166\n"
     ]
    }
   ],
   "source": [
    "\n",
    "# Define cost parameters for misclassification:\n",
    "FP_cost = 100  # cost for a false positive (predicting fast growth when it's not)\n",
    "FN_cost = 500  # cost for a false negative (predicting not fast growth when it is)\n",
    "\n",
    "# Define the feature set to include everything except the target.\n",
    "features = [\n",
    "    'ind', 'new', 'foreign_management', 'ceo_young',\n",
    "    'extra_exp_pl_flag_high', 'extra_inc_pl_flag_high', 'inventories_pl_flag_high',\n",
    "    'material_exp_pl_flag_high', 'personnel_exp_pl_flag_high',\n",
    "    'curr_liab_bs_flag_high', 'liq_assets_bs_flag_high', 'subscribed_cap_bs_flag_high',\n",
    "    'extra_profit_loss_pl_flag_low', 'inc_bef_tax_pl_flag_low', 'profit_loss_year_pl_flag_low',\n",
    "    'share_eq_bs_flag_low', 'extra_profit_loss_pl_flag_high', 'inc_bef_tax_pl_flag_high',\n",
    "    'profit_loss_year_pl_flag_high', 'share_eq_bs_flag_high', 'flag_low_ceo_age', 'flag_high_ceo_age'\n",
    "]\n",
    "\n",
    "# Separate the feature matrix (X) and the target variable (y)\n",
    "X = pivot_data[features]\n",
    "y = pivot_data['fast_growth']\n",
    "\n",
    "# Define the models to compare:\n",
    "models = {\n",
    "    'Logistic Regression': LogisticRegression(max_iter=1000, random_state=42),\n",
    "    'Random Forest': RandomForestClassifier(n_estimators=100, random_state=42),\n",
    "    'Gradient Boosting': GradientBoostingClassifier(n_estimators=100, random_state=42)\n",
    "}\n",
    "\n",
    "# Function to compute the expected loss for given true labels, predicted probabilities, and threshold.\n",
    "def compute_expected_loss(y_true, y_proba, threshold, FP_cost, FN_cost):\n",
    "    # Create binary predictions based on the threshold\n",
    "    y_pred = (y_proba >= threshold).astype(int)\n",
    "    # Compute confusion matrix components: TN, FP, FN, TP\n",
    "    tn, fp, fn, tp = confusion_matrix(y_true, y_pred).ravel()\n",
    "    # Calculate the total loss (you can normalize by number of instances if desired)\n",
    "    loss = fp * FP_cost + fn * FN_cost\n",
    "    return loss\n",
    "\n",
    "# Function to find the optimal threshold that minimizes the expected loss.\n",
    "def find_optimal_threshold(y_true, y_proba, FP_cost, FN_cost):\n",
    "    thresholds = np.linspace(0, 1, 101)  # thresholds from 0 to 1 in steps of 0.01\n",
    "    losses = [compute_expected_loss(y_true, y_proba, t, FP_cost, FN_cost) for t in thresholds]\n",
    "    min_index = np.argmin(losses)\n",
    "    return thresholds[min_index], losses[min_index]\n",
    "\n",
    "# Set up stratified 5-fold cross-validation.\n",
    "cv = StratifiedKFold(n_splits=5, shuffle=True, random_state=42)\n",
    "\n",
    "results = []\n",
    "\n",
    "# For each model, perform cross-validation, optimize the threshold, and compute the expected loss.\n",
    "for model_name, model in models.items():\n",
    "    fold_losses = []\n",
    "    fold_thresholds = []\n",
    "    \n",
    "    for train_index, test_index in cv.split(X, y):\n",
    "        X_train_fold, X_test_fold = X.iloc[train_index], X.iloc[test_index]\n",
    "        y_train_fold, y_test_fold = y.iloc[train_index], y.iloc[test_index]\n",
    "        \n",
    "        model.fit(X_train_fold, y_train_fold)\n",
    "        y_proba_fold = model.predict_proba(X_test_fold)[:, 1]\n",
    "        \n",
    "        optimal_threshold, loss = find_optimal_threshold(y_test_fold, y_proba_fold, FP_cost, FN_cost)\n",
    "        fold_thresholds.append(optimal_threshold)\n",
    "        fold_losses.append(loss)\n",
    "    \n",
    "    avg_loss = np.mean(fold_losses)\n",
    "    avg_threshold = np.mean(fold_thresholds)\n",
    "    results.append({\n",
    "        \"Model\": model_name,\n",
    "        \"Avg Expected Loss\": avg_loss,\n",
    "        \"Avg Optimal Threshold\": avg_threshold\n",
    "    })\n",
    "\n",
    "# Display the comparison table.\n",
    "results_df_loss = pd.DataFrame(results)\n",
    "print(results_df_loss)\n"
   ]
  },
  {
   "cell_type": "markdown",
   "id": "d37201e1",
   "metadata": {},
   "source": [
    "\n",
    "### Interpretation of the Classification Results\n",
    "\n",
    "**Logistic Regression**  \n",
    "- **Average Expected Loss**: \\$224,880  \n",
    "- **Average Optimal Threshold**: 0.170  \n",
    "Logistic regression incurs a moderate average loss, with an optimal threshold of 17.0%. Under the given cost structure, it strikes a reasonable balance between false positives and false negatives.\n",
    "\n",
    "**Random Forest**  \n",
    "- **Average Expected Loss**: \\$227,980  \n",
    "- **Average Optimal Threshold**: 0.144  \n",
    "This model produces a slightly higher expected loss, with a lower threshold of 14.4%. The lower threshold suggests a more aggressive prediction approach, potentially favoring recall over precision.\n",
    "\n",
    "**Gradient Boosting**  \n",
    "- **Average Expected Loss**: **\\$224,700**  \n",
    "- **Average Optimal Threshold**: 0.166  \n",
    "Gradient boosting yields the lowest expected loss, with a threshold of 16.6%. It offers a marginal improvement in cost-efficiency while maintaining similar classification behavior to logistic regression.\n",
    "\n",
    "**Preferred Model**  \n",
    "Gradient Boosting is selected as the preferred model based on its superior performance in minimizing misclassification costs, despite the close overall results.\n",
    "\n",
    "---\n",
    "\n",
    "#### Misclassification Costs\n",
    "\n",
    "- **False Positive (FP)**: Predicting fast growth when the firm is not → Cost = \\$100  \n",
    "- **False Negative (FN)**: Missing a firm that does experience fast growth → Cost = \\$500  \n",
    "\n",
    "This asymmetry reflects the higher business cost of underestimating high-growth firms, where missed opportunities are five times more expensive than overestimates.\n",
    "\n",
    "---\n",
    "\n",
    "### Methodology\n",
    "\n",
    "For each model, we:\n",
    "\n",
    "1. Generated predicted probabilities using **5-fold stratified cross-validation**.  \n",
    "2. Identified the **optimal classification threshold** per fold that minimized expected loss based on FP/FN costs.  \n",
    "3. Calculated the **average expected loss** across all folds.  \n",
    "4. Reported the **average optimal threshold** used for binary classification.\n",
    "\n",
    "---\n",
    "\n",
    "### Models Evaluated\n",
    "\n",
    "- Logistic Regression  \n",
    "- Random Forest  \n",
    "- Gradient Boosting  \n",
    "\n",
    "All models were trained using a consistent set of firm-level characteristics, including industry type, financial flags, and management attributes observed in 2012.\n",
    "\n",
    "---\n",
    "\n",
    "### Results Summary\n",
    "\n",
    "| Model                | Avg Expected Loss | Avg Optimal Threshold |\n",
    "|---------------------|-------------------|------------------------|\n",
    "| Logistic Regression | \\$224,920         | 0.168                 |\n",
    "| Random Forest       | \\$227,980         | 0.144                 |\n",
    "| Gradient Boosting   | **\\$224,700**     | 0.166                 |\n",
    "\n",
    "---\n",
    "\n",
    "### Interpretation\n",
    "\n",
    "**Logistic Regression**  \n",
    "- **Expected Loss**: \\$224,920  \n",
    "- **Threshold**: 0.168  \n",
    "This model performs well and is highly interpretable. A threshold of 16.8% means firms with a predicted probability above this value are classified as fast-growing.\n",
    "\n",
    "**Random Forest**  \n",
    "- **Expected Loss**: \\$227,980  \n",
    "- **Threshold**: 0.144  \n",
    "Slightly higher cost and a lower decision threshold suggest a tendency to flag more firms as high-growth, possibly to reduce false negatives.\n",
    "\n",
    "**Gradient Boosting**  \n",
    "- **Expected Loss**: **\\$224,700**  \n",
    "- **Threshold**: 0.166  \n",
    "Delivers the lowest misclassification cost and strikes a solid balance between precision and recall, making it the most efficient model under the given loss structure.\n",
    "\n",
    "---\n",
    "\n",
    "### Model Selection\n",
    "\n",
    "**Gradient Boosting** is selected as the most cost-effective model. While all models achieve comparable performance, it achieves the **lowest average expected loss**, making it the most suitable for implementation under the current cost assumptions.\n",
    "\n",
    "---\n",
    "\n",
    "### Limitations and Considerations\n",
    "\n",
    "- The optimal thresholds are relatively low (14–17%), implying a cautious classification strategy that emphasizes minimizing false negatives.\n",
    "- Differences between models are small, suggesting that **feature design and data quality** may have a greater impact than model choice alone.\n",
    "- Future work could explore:\n",
    "  - Hyperparameter tuning  \n",
    "  - Cost-sensitive training techniques  \n",
    "  - Alternative cost structures  \n",
    "  - Incorporating forward-looking indicators of firm behavior\n"
   ]
  },
  {
   "cell_type": "markdown",
   "id": "a7283b60-fdd8-46c6-b775-0ba4837b1277",
   "metadata": {},
   "source": [
    "## Tasks 1\n",
    "### PART III: Discussion of results\n",
    "* Show a confusion table (on a selected fold or holdout set).\n",
    "* Discuss results, evaluate how useful your model may be."
   ]
  },
  {
   "cell_type": "code",
   "execution_count": 50,
   "id": "00969776-bf0f-44fa-bdb6-c4d0065ef4fe",
   "metadata": {},
   "outputs": [
    {
     "data": {
      "image/png": "[encoded data removed]",
      "text/plain": [
       "<Figure size 640x480 with 2 Axes>"
      ]
     },
     "metadata": {},
     "output_type": "display_data"
    }
   ],
   "source": [
    "# Split data into training and holdout sets (30% holdout)\n",
    "X_train, X_holdout, y_train, y_holdout = train_test_split(X, y, test_size=0.3, random_state=42)\n",
    "\n",
    "# Train the best model based on expected loss (Logistic Regression was chosen)\n",
    "best_model = LogisticRegression(max_iter=1000, random_state=42)\n",
    "best_model.fit(X_train, y_train)\n",
    "\n",
    "# Use the optimal threshold of approximately 0.168 (from cross-validation)\n",
    "optimal_threshold = 0.168\n",
    "y_holdout_pred = (best_model.predict_proba(X_holdout)[:, 1] >= optimal_threshold).astype(int)\n",
    "\n",
    "# Generate the confusion matrix\n",
    "cm = confusion_matrix(y_holdout, y_holdout_pred)\n",
    "disp = ConfusionMatrixDisplay(confusion_matrix=cm, display_labels=best_model.classes_)\n",
    "\n",
    "# Plot the confusion matrix\n",
    "disp.plot(cmap=plt.cm.Blues)\n",
    "plt.title(\"Confusion Matrix on Holdout Set\")\n",
    "plt.show()\n"
   ]
  },
  {
   "cell_type": "markdown",
   "id": "c1e291fe-40ea-4dcb-a8ac-0942f4cda2aa",
   "metadata": {},
   "source": [
    "### Confusion Table\n",
    "\n",
    "To assess real-world classification performance, we evaluated the logistic regression model—selected based on expected loss—on a 30% holdout set. The classification threshold of **0.168** was determined via cross-validation, reflecting the optimal balance under the defined cost structure.\n",
    "\n",
    "---\n",
    "\n",
    "### Interpretation\n",
    "\n",
    "- The model correctly classified **999 fast-growth firms**, while missing **187**, corresponding to a false negative rate of approximately **15.8%**.\n",
    "- It also produced **2,379 false positives**, reflecting firms incorrectly labeled as fast growth.\n",
    "- This relatively high number of false positives is a **direct consequence of minimizing false negatives**, which are five times more costly under the business loss function.\n",
    "\n",
    "---\n",
    "\n",
    "### Business Evaluation\n",
    "\n",
    "Given the cost assumptions:\n",
    "\n",
    "- **False Positive (FP) cost**: \\$100  \n",
    "- **False Negative (FN) cost**: \\$500  \n",
    "\n",
    "The total misclassification cost on the holdout set is:\n",
    "\n",
    "$$\n",
    "(2{,}379 \\times 100) + (187 \\times 500) = \\$331{,}400\n",
    "$$\n",
    "\n",
    "This observed cost aligns closely with the expected loss estimated via cross-validation, confirming the practical reliability of the model.\n",
    "\n",
    "The model’s behavior reflects a business-oriented tradeoff: it **prioritizes identifying high-growth firms (TPs)** even if this means tolerating a larger number of false positives. This is appropriate in contexts where **missing a high-growth opportunity is substantially more costly than a false alarm**.\n",
    "\n",
    "---\n",
    "\n",
    "### Conclusion\n",
    "\n",
    "The logistic regression model, tuned to a cost-sensitive threshold, achieves effective classification in practice. Despite generating many false positives, it successfully captures the majority of fast-growing firms. This performance supports its use in applications where early identification of high-potential firms is essential for investment decisions, resource allocation, or policy targeting."
   ]
  },
  {
   "cell_type": "markdown",
   "id": "3d638f0c-b691-4ced-a1f0-77a96480b8f6",
   "metadata": {},
   "source": [
    "## Tasks 2"
   ]
  },
  {
   "cell_type": "markdown",
   "id": "60f9a6b0",
   "metadata": {},
   "source": [
    "\n",
    "### Objective\n",
    "\n",
    "There are two indusry categories in the dataset: manufacturing and services (repair, accommodation, food).\n",
    "based off indusry standards code I am assuming in the ind column:\n",
    "\n",
    "- **Manufacturing** (industry code = 2)\n",
    "- **Services** (industry code = 3), which includes repair, accommodation, and food services\n",
    "\n",
    "Using the same loss function and feature set, we:\n",
    "- Split the data by industry\n",
    "- Trained a logistic regression model on each group\n",
    "- Performed 5-fold cross-validation\n",
    "- Identified the optimal classification threshold per fold\n",
    "- Calculated average expected loss across folds\n",
    "\n"
   ]
  },
  {
   "cell_type": "code",
   "execution_count": 51,
   "id": "3c559d97-4a66-4114-ba32-ad19ed3e0df3",
   "metadata": {},
   "outputs": [
    {
     "name": "stdout",
     "output_type": "stream",
     "text": [
      "        Industry  Avg Optimal Threshold  Avg Expected Loss\n",
      "0  manufacturing                  0.136            66920.0\n",
      "1       services                  0.168           153000.0\n"
     ]
    }
   ],
   "source": [
    "# Define cost parameters for misclassification\n",
    "FP_cost = 100   # Cost for a false positive\n",
    "FN_cost = 500   # Cost for a false negative\n",
    "\n",
    "# Define the loss function: calculate expected loss given true labels, predicted probabilities, and a threshold\n",
    "def compute_expected_loss(y_true, y_proba, threshold, FP_cost, FN_cost):\n",
    "    y_pred = (y_proba >= threshold).astype(int)\n",
    "    tn, fp, fn, tp = confusion_matrix(y_true, y_pred).ravel()\n",
    "    loss = fp * FP_cost + fn * FN_cost\n",
    "    return loss\n",
    "\n",
    "# Function to find the optimal threshold (between 0 and 1) that minimizes the expected loss\n",
    "def find_optimal_threshold(y_true, y_proba, FP_cost, FN_cost):\n",
    "    thresholds = np.linspace(0, 1, 101)  # 0, 0.01, 0.02, …, 1.0\n",
    "    losses = [compute_expected_loss(y_true, y_proba, t, FP_cost, FN_cost) for t in thresholds]\n",
    "    min_index = np.argmin(losses)\n",
    "    return thresholds[min_index], losses[min_index]\n",
    "\n",
    "# Define the features to be used in the model\n",
    "features = [\n",
    "    'ind', 'new', 'foreign_management', 'ceo_young',\n",
    "    'extra_exp_pl_flag_high', 'extra_inc_pl_flag_high', 'inventories_pl_flag_high',\n",
    "    'material_exp_pl_flag_high', 'personnel_exp_pl_flag_high',\n",
    "    'curr_liab_bs_flag_high', 'liq_assets_bs_flag_high', 'subscribed_cap_bs_flag_high',\n",
    "    'extra_profit_loss_pl_flag_low', 'inc_bef_tax_pl_flag_low', 'profit_loss_year_pl_flag_low',\n",
    "    'share_eq_bs_flag_low', 'extra_profit_loss_pl_flag_high', 'inc_bef_tax_pl_flag_high',\n",
    "    'profit_loss_year_pl_flag_high', 'share_eq_bs_flag_high', 'flag_low_ceo_age', 'flag_high_ceo_age'\n",
    "]\n",
    "\n",
    "# Assume pivot_data has been created earlier and contains the target column 'fast_growth'\n",
    "# along with all the columns in the features list.\n",
    "\n",
    "# Define the two industry groups based on the 'ind' column: manufacturing (2) and services (3)\n",
    "industry_groups = {'manufacturing': 2, 'services': 3}\n",
    "\n",
    "# Prepare to store results for each industry group\n",
    "results = []\n",
    "\n",
    "# Set up 5-fold stratified cross-validation\n",
    "cv = StratifiedKFold(n_splits=5, shuffle=True, random_state=42)\n",
    "\n",
    "# Carry out the exercise for each industry group separately\n",
    "for industry_name, industry_code in industry_groups.items():\n",
    "    # Filter data for the current industry group\n",
    "    group_data = pivot_data[pivot_data['ind'] == industry_code]\n",
    "    X_group = group_data[features]\n",
    "    y_group = group_data['fast_growth']\n",
    "    \n",
    "    fold_thresholds = []\n",
    "    fold_losses = []\n",
    "    \n",
    "    # Perform cross-validation on the current group\n",
    "    for train_idx, test_idx in cv.split(X_group, y_group):\n",
    "        X_train = X_group.iloc[train_idx]\n",
    "        y_train = y_group.iloc[train_idx]\n",
    "        X_test = X_group.iloc[test_idx]\n",
    "        y_test = y_group.iloc[test_idx]\n",
    "        \n",
    "        # Train a prediction model (using Logistic Regression as an example)\n",
    "        model = LogisticRegression(max_iter=1000, random_state=42)\n",
    "        model.fit(X_train, y_train)\n",
    "        y_proba = model.predict_proba(X_test)[:, 1]\n",
    "        \n",
    "        # Find the optimal threshold and expected loss for this fold\n",
    "        optimal_threshold, loss = find_optimal_threshold(y_test, y_proba, FP_cost, FN_cost)\n",
    "        fold_thresholds.append(optimal_threshold)\n",
    "        fold_losses.append(loss)\n",
    "    \n",
    "    # Average the optimal thresholds and losses across folds for the industry group\n",
    "    avg_threshold = np.mean(fold_thresholds)\n",
    "    avg_loss = np.mean(fold_losses)\n",
    "    \n",
    "    results.append({\n",
    "        'Industry': industry_name,\n",
    "        'Avg Optimal Threshold': avg_threshold,\n",
    "        'Avg Expected Loss': avg_loss\n",
    "    })\n",
    "\n",
    "# Create a DataFrame to compare the results for the two industry groups\n",
    "results_df = pd.DataFrame(results)\n",
    "print(results_df)\n"
   ]
  },
  {
   "cell_type": "markdown",
   "id": "9219e5b0-9d77-4ee0-a0ea-0bd1f8b876fe",
   "metadata": {},
   "source": [
    "\n",
    "### Interpretation of Industry-Specific Results (Loss Function)\n",
    "\n",
    "#### Manufacturing\n",
    "\n",
    "- **Average Optimal Threshold**: 0.136  \n",
    "  The optimal threshold for identifying fast-growth firms in manufacturing is relatively low at 13.6%. This reflects the model’s tendency to classify firms as high-growth even at moderate predicted probabilities, aligning with the higher cost of false negatives in the loss function. The threshold implies a strategy biased toward recall in this sector.\n",
    "\n",
    "- **Average Expected Loss**: \\$66,920  \n",
    "  The misclassification cost is notably lower than in services, suggesting better model performance. This may be driven by more stable financial structures or clearer predictive signals within manufacturing firms, allowing for more accurate classification.\n",
    "\n",
    "#### Services\n",
    "\n",
    "- **Average Optimal Threshold**: 0.168  \n",
    "  For the services sector, the threshold is higher at 16.8%, indicating the model is more conservative in labeling firms as high-growth. This may stem from higher uncertainty or noisier predictor variables in service-based industries.\n",
    "\n",
    "- **Average Expected Loss**: \\$153,000  \n",
    "  The expected loss is more than double that observed in manufacturing. Potential explanations include:\n",
    "  - A higher false negative rate (i.e., more missed high-growth firms),\n",
    "  - Lower model fit or weaker signal in services data,\n",
    "  - Greater inherent unpredictability in service industries, where growth is influenced by less tangible factors (e.g., local demand conditions, consumer sentiment, labor volatility).\n",
    "\n",
    "---\n",
    "\n",
    "### Overall Implications\n",
    "\n",
    "These findings reveal **sector-specific differences in classification behavior and cost outcomes**:\n",
    "\n",
    "- The model performs more effectively in the **manufacturing sector**, likely due to the presence of more structured, quantifiable firm characteristics that better align with the predictive features.\n",
    "- In the **services sector**, higher classification thresholds and expected losses suggest challenges in capturing the underlying dynamics of fast growth. This may point to the need for sector-specific modeling approaches or enhanced feature engineering.\n",
    "\n",
    "The cost structure and model output indicate that **a one-size-fits-all classification strategy may not be optimal**. Tailoring prediction thresholds and interventions by industry can improve both efficiency and business impact. These insights may guide differentiated policy actions or investment screening strategies across firm types.\n"
   ]
  },
  {
   "cell_type": "code",
   "execution_count": 52,
   "id": "f90f1380-d5d7-439a-bce1-974ca74ad4a2",
   "metadata": {},
   "outputs": [
    {
     "name": "stdout",
     "output_type": "stream",
     "text": [
      "Manufacturing Performance:\n",
      "Accuracy: 0.747\n",
      "ROC AUC: 0.602\n",
      "Confusion Matrix:\n",
      " [[3296   64]\n",
      " [1081   82]]\n",
      "\n",
      "Services Performance:\n",
      "Accuracy: 0.765\n",
      "ROC AUC: 0.669\n",
      "Confusion Matrix:\n",
      " [[7958  226]\n",
      " [2326  339]]\n",
      "\n",
      "Comparison of Model Performance:\n",
      "        Industry  Accuracy   ROC AUC\n",
      "0  Manufacturing  0.746849  0.602234\n",
      "1       Services  0.764771  0.668894\n"
     ]
    }
   ],
   "source": [
    "# Define the features and target.\n",
    "features = [\n",
    "    'ind', 'new', 'foreign_management', 'ceo_young',\n",
    "    'extra_exp_pl_flag_high', 'extra_inc_pl_flag_high', 'inventories_pl_flag_high',\n",
    "    'material_exp_pl_flag_high', 'personnel_exp_pl_flag_high',\n",
    "    'curr_liab_bs_flag_high', 'liq_assets_bs_flag_high', 'subscribed_cap_bs_flag_high',\n",
    "    'extra_profit_loss_pl_flag_low', 'inc_bef_tax_pl_flag_low', 'profit_loss_year_pl_flag_low',\n",
    "    'share_eq_bs_flag_low', 'extra_profit_loss_pl_flag_high', 'inc_bef_tax_pl_flag_high',\n",
    "    'profit_loss_year_pl_flag_high', 'share_eq_bs_flag_high', 'flag_low_ceo_age', 'flag_high_ceo_age'\n",
    "]\n",
    "\n",
    "# Assume pivot_data is available and includes the target 'fast_growth' and the feature columns.\n",
    "\n",
    "# Function to evaluate model performance for a given dataset (X and y)\n",
    "def evaluate_model(X, y, cv_splits=5, random_state=42):\n",
    "    # Using Stratified K-Fold cross validation\n",
    "    cv = StratifiedKFold(n_splits=cv_splits, shuffle=True, random_state=random_state)\n",
    "    model = LogisticRegression(max_iter=1000, random_state=random_state)\n",
    "    \n",
    "    # Obtain cross-validated predicted probabilities\n",
    "    y_proba = cross_val_predict(model, X, y, cv=cv, method='predict_proba')[:, 1]\n",
    "    # Obtain cross-validated predictions (using default threshold 0.5)\n",
    "    y_pred = (y_proba >= 0.5).astype(int)\n",
    "    \n",
    "    # Calculate performance metrics\n",
    "    accuracy = accuracy_score(y, y_pred)\n",
    "    roc_auc = roc_auc_score(y, y_proba)\n",
    "    cm = confusion_matrix(y, y_pred)\n",
    "    \n",
    "    return accuracy, roc_auc, cm\n",
    "\n",
    "# Separate the two industry groups based on the 'ind' column\n",
    "manufacturing_data = pivot_data[pivot_data['ind'] == 2]\n",
    "services_data = pivot_data[pivot_data['ind'] == 3]\n",
    "\n",
    "# Extract X and y for manufacturing\n",
    "X_manufacturing = manufacturing_data[features]\n",
    "y_manufacturing = manufacturing_data['fast_growth']\n",
    "\n",
    "# Extract X and y for services\n",
    "X_services = services_data[features]\n",
    "y_services = services_data['fast_growth']\n",
    "\n",
    "# Evaluate the model for manufacturing\n",
    "accuracy_manuf, roc_auc_manuf, cm_manuf = evaluate_model(X_manufacturing, y_manufacturing)\n",
    "print(\"Manufacturing Performance:\")\n",
    "print(\"Accuracy: {:.3f}\".format(accuracy_manuf))\n",
    "print(\"ROC AUC: {:.3f}\".format(roc_auc_manuf))\n",
    "print(\"Confusion Matrix:\\n\", cm_manuf)\n",
    "\n",
    "# Evaluate the model for services\n",
    "accuracy_services, roc_auc_services, cm_services = evaluate_model(X_services, y_services)\n",
    "print(\"\\nServices Performance:\")\n",
    "print(\"Accuracy: {:.3f}\".format(accuracy_services))\n",
    "print(\"ROC AUC: {:.3f}\".format(roc_auc_services))\n",
    "print(\"Confusion Matrix:\\n\", cm_services)\n",
    "\n",
    "# Combine results into a DataFrame for easy comparison\n",
    "results = pd.DataFrame({\n",
    "    'Industry': ['Manufacturing', 'Services'],\n",
    "    'Accuracy': [accuracy_manuf, accuracy_services],\n",
    "    'ROC AUC': [roc_auc_manuf, roc_auc_services]\n",
    "})\n",
    "print(\"\\nComparison of Model Performance:\")\n",
    "print(results)\n"
   ]
  },
  {
   "cell_type": "markdown",
   "id": "7edc4fa2",
   "metadata": {},
   "source": [
    "### Interpretation of the Results\n",
    "\n",
    "#### Manufacturing Performance  \n",
    "- **Accuracy**: 0.746  \n",
    "- **ROC AUC**: 0.603  \n",
    "- **Confusion Matrix**:  \n",
    "  - True Negatives (TN): 3,294  \n",
    "  - False Positives (FP): 66  \n",
    "  - False Negatives (FN): 1,081  \n",
    "  - True Positives (TP): 82  \n",
    "\n",
    "The model correctly classifies approximately 74.6% of manufacturing cases. However, a ROC AUC of 0.603 indicates only modest discriminative ability. While most non-fast-growth firms are identified correctly (TN = 3,294), a large number of fast-growth firms are missed (FN = 1,081), with only 82 correctly flagged (TP). This highlights a limitation in detecting high-growth manufacturing firms.\n",
    "\n",
    "#### Services Performance  \n",
    "- **Accuracy**: 0.765  \n",
    "- **ROC AUC**: 0.669  \n",
    "- **Confusion Matrix**:  \n",
    "  - True Negatives (TN): 7,958  \n",
    "  - False Positives (FP): 226  \n",
    "  - False Negatives (FN): 2,324  \n",
    "  - True Positives (TP): 341  \n",
    "\n",
    "For services, both accuracy and ROC AUC are higher—indicating better classification performance. The model correctly captures more fast-growth firms (TP = 341), although a high number of false negatives (FN = 2,324) persists. This suggests services data may be more predictable, or better aligned with the model’s structure.\n",
    "\n",
    "---\n",
    "\n",
    "### Industry-Level Model Evaluation (ROC AUC and Accuracy)\n",
    "\n",
    "#### Objective\n",
    "\n",
    "This section evaluates the **logistic regression model’s performance by industry segment**, complementing loss-based findings from Task 2 with standard classification metrics.\n",
    "\n",
    "---\n",
    "\n",
    "#### Manufacturing\n",
    "\n",
    "- **Accuracy**: 0.747  \n",
    "- **ROC AUC**: 0.602  \n",
    "- **Confusion Matrix**:\n",
    "\n",
    "|                    | Predicted: No | Predicted: Yes |\n",
    "|--------------------|----------------|----------------|\n",
    "| Actual: No         | 3,296 (TN)     | 64 (FP)        |\n",
    "| Actual: Yes        | 1,081 (FN)     | 82 (TP)        |\n",
    "\n",
    "- **Interpretation**:  \n",
    "  While the model achieves a reasonable accuracy of 74.7%, its low ROC AUC (0.602) signals weak separation between classes. The high number of false negatives suggests it struggles to identify fast-growing manufacturing firms, possibly due to feature limitations or less predictable growth dynamics in this sector.\n",
    "\n",
    "---\n",
    "\n",
    "#### Services\n",
    "\n",
    "- **Accuracy**: 0.765  \n",
    "- **ROC AUC**: 0.669  \n",
    "- **Confusion Matrix**:\n",
    "\n",
    "|                    | Predicted: No | Predicted: Yes |\n",
    "|--------------------|----------------|----------------|\n",
    "| Actual: No         | 7,958 (TN)     | 226 (FP)       |\n",
    "| Actual: Yes        | 2,324 (FN)     | 341 (TP)       |\n",
    "\n",
    "- **Interpretation**:  \n",
    "  The model performs better in the services group, achieving higher accuracy and stronger class separation. It captures more true positives than in manufacturing, suggesting services firms may exhibit more model-detectable growth patterns.\n",
    "\n",
    "---\n",
    "\n",
    "### Comparison Summary\n",
    "\n",
    "| Industry       | Accuracy | ROC AUC |\n",
    "|----------------|----------|---------|\n",
    "| Manufacturing  | 0.747    | 0.602   |\n",
    "| Services       | 0.765    | 0.669   |\n",
    "\n",
    "- The model performs better on **services firms**, both in terms of accuracy and discriminatory power.\n",
    "- However, high false negative rates in both groups show persistent difficulty in identifying actual fast-growth firms, especially in manufacturing.\n",
    "\n",
    "---\n",
    "\n",
    "### Key Takeaways\n",
    "\n",
    "- **Discriminative power remains moderate**, with stronger results in the services sector.\n",
    "- High false negative rates point to a need for further improvement through:\n",
    "  - **Enhanced feature engineering**, to better detect early signs of rapid growth.\n",
    "  - **More flexible modeling techniques**, such as nonlinear or ensemble methods.\n",
    "  - **Industry-specific tuning** and possible inclusion of **external data** (e.g., macroeconomic indicators, sector-specific trends).\n",
    "\n",
    "These results underscore the importance of **tailoring predictive strategies by industry** and investing in better inputs to improve early identification of high-growth firms."
   ]
  }
 ],
 "metadata": {
  "kernelspec": {
   "display_name": "Python 3 (ipykernel)",
   "language": "python",
   "name": "python3"
  },
  "language_info": {
   "codemirror_mode": {
    "name": "ipython",
    "version": 3
   },
   "file_extension": ".py",
   "mimetype": "text/x-python",
   "name": "python",
   "nbconvert_exporter": "python",
   "pygments_lexer": "ipython3",
   "version": "3.11.5"
  }
 },
 "nbformat": 4,
 "nbformat_minor": 5
}
